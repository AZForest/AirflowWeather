{
 "cells": [
  {
   "cell_type": "code",
   "execution_count": 1,
   "id": "b2ba7fdc-30e9-46ba-9dc2-b95f27db891b",
   "metadata": {},
   "outputs": [],
   "source": [
    "from pyspark.sql import SparkSession\n",
    "import os"
   ]
  },
  {
   "cell_type": "code",
   "execution_count": 51,
   "id": "e9af0f0d-fb07-4692-a53f-a4cb493cb869",
   "metadata": {},
   "outputs": [
    {
     "name": "stderr",
     "output_type": "stream",
     "text": [
      "25/09/02 08:41:21 WARN SimpleFunctionRegistry: The function custom_formatter replaced a previously registered function.\n"
     ]
    },
    {
     "data": {
      "text/plain": [
       "<function __main__.custom_formatter(s: str)>"
      ]
     },
     "execution_count": 51,
     "metadata": {},
     "output_type": "execute_result"
    }
   ],
   "source": [
    "from pyspark.sql.functions import input_file_name, regexp_extract\n",
    "from pyspark.sql.types import StringType\n",
    "def custom_formatter(s: str):\n",
    "    index = -1;\n",
    "    while s[index] != '/':\n",
    "        index -= 1\n",
    "    index -= 1\n",
    "    print(s[index])\n",
    "    location = []\n",
    "    while s[index] != '/':\n",
    "        location.insert(0, s[index])\n",
    "        index -= 1\n",
    "    location = \"\".join(location)\n",
    "    return location\n",
    "\n",
    "spark.udf.register(\"custom_formatter\", custom_formatter, StringType())"
   ]
  },
  {
   "cell_type": "code",
   "execution_count": 2,
   "id": "0dc23696-830a-492f-8758-4764b1154245",
   "metadata": {},
   "outputs": [
    {
     "name": "stderr",
     "output_type": "stream",
     "text": [
      "25/09/02 13:20:05 WARN SparkSession: Using an existing Spark session; only runtime SQL configurations will take effect.\n"
     ]
    }
   ],
   "source": [
    "spark = SparkSession.builder \\\n",
    "    .appName(\"S3JsonReader\") \\\n",
    "    .config(\"spark.hadoop.fs.s3a.connection.timeout\", \"60000\") \\\n",
    "    .config(\"spark.hadoop.fs.s3a.socket.timeout\", \"60000\") \\\n",
    "    .config(\"spark.hadoop.fs.s3a.connection.establish.timeout\", \"60000\") \\\n",
    "    .config(\"spark.hadoop.fs.s3a.threads.keepalivetime\", \"60000\") \\\n",
    "    .config(\"spark.hadoop.fs.s3a.impl\", \"org.apache.hadoop.fs.s3a.S3AFileSystem\") \\\n",
    "    .config(\"spark.hadoop.fs.s3a.multipart.purge.age\", \"24\") \\\n",
    "    .config(\"spark.hadoop.fs.s3a.aws.credentials.provider\", \"com.amazonaws.auth.EnvironmentVariableCredentialsProvider\") \\\n",
    "    .getOrCreate()"
   ]
  },
  {
   "cell_type": "code",
   "execution_count": 3,
   "id": "954577c7-57a8-4bd1-8895-232f4a8d950d",
   "metadata": {},
   "outputs": [
    {
     "name": "stdout",
     "output_type": "stream",
     "text": [
      "fs.s3a.select.output.csv.record.delimiter: \\n\n",
      "fs.s3a.select.input.csv.quote.character: \"\n",
      "fs.s3a.path.style.access: false\n",
      "fs.s3a.select.input.compression: none\n",
      "fs.s3a.max.total.tasks: 32\n",
      "fs.s3a.vectored.read.min.seek.size: 128K\n",
      "fs.s3a.select.output.csv.quote.fields: always\n",
      "fs.s3a.vectored.read.max.merged.size: 2M\n",
      "fs.s3a.select.input.csv.header: none\n",
      "fs.s3a.impl: org.apache.hadoop.fs.s3a.S3AFileSystem\n",
      "fs.s3a.select.enabled: true\n",
      "fs.s3a.committer.staging.tmp.path: tmp/staging\n",
      "fs.s3a.executor.capacity: 16\n",
      "fs.s3a.multiobjectdelete.enable: true\n",
      "fs.s3a.multipart.purge: false\n",
      "fs.s3a.connection.establish.timeout: 30s\n",
      "fs.s3a.downgrade.syncable.exceptions: true\n",
      "fs.s3a.multipart.purge.age: 24h\n",
      "fs.s3a.audit.enabled: true\n",
      "fs.s3a.select.input.csv.record.delimiter: \\n\n",
      "fs.s3a.accesspoint.required: false\n",
      "fs.s3a.retry.limit: 7\n",
      "fs.s3a.committer.name: file\n",
      "fs.s3a.threads.max: 96\n",
      "fs.s3a.threads.keepalivetime: 60s\n",
      "fs.s3a.select.input.csv.quote.escape.character: \\\\\n",
      "fs.s3a.multipart.threshold: 128M\n",
      "fs.s3a.ssl.channel.mode: default_jsse\n",
      "fs.s3a.change.detection.mode: server\n",
      "fs.s3a.buffer.dir: ${env.LOCAL_DIRS:-${hadoop.tmp.dir}}/s3a\n",
      "fs.s3a.fast.upload.active.blocks: 4\n",
      "fs.s3a.block.size: 32M\n",
      "fs.s3a.change.detection.version.required: true\n",
      "fs.s3a.select.output.csv.field.delimiter: ,\n",
      "fs.s3a.committer.staging.conflict-mode: append\n",
      "fs.s3a.select.output.csv.quote.escape.character: \\\\\n",
      "fs.s3a.list.version: 2\n",
      "fs.s3a.connection.maximum: 500\n",
      "fs.s3a.paging.maximum: 5000\n",
      "fs.s3a.readahead.range: 64K\n",
      "fs.s3a.attempts.maximum: 5\n",
      "fs.s3a.select.input.csv.comment.marker: #\n",
      "fs.s3a.etag.checksum.enabled: false\n",
      "fs.s3a.retry.interval: 500ms\n",
      "fs.s3a.select.errors.include.sql: false\n",
      "fs.s3a.multipart.size: 64M\n",
      "fs.s3a.select.input.csv.field.delimiter: ,\n",
      "fs.s3a.socket.recv.buffer: 8192\n",
      "fs.s3a.connection.ssl.enabled: true\n",
      "fs.s3a.committer.threads: 8\n",
      "fs.s3a.fast.upload.buffer: disk\n",
      "fs.s3a.select.output.csv.quote.character: \"\n",
      "fs.s3a.committer.staging.unique-filenames: true\n",
      "fs.s3a.retry.throttle.interval: 100ms\n",
      "fs.s3a.connection.ttl: 5m\n",
      "fs.s3a.aws.credentials.provider: \n",
      "    org.apache.hadoop.fs.s3a.TemporaryAWSCredentialsProvider,\n",
      "    org.apache.hadoop.fs.s3a.SimpleAWSCredentialsProvider,\n",
      "    software.amazon.awssdk.auth.credentials.EnvironmentVariableCredentialsProvider,\n",
      "    org.apache.hadoop.fs.s3a.auth.IAMInstanceCredentialsProvider\n",
      "  \n",
      "fs.s3a.assumed.role.session.duration: 30m\n",
      "fs.s3a.assumed.role.credentials.provider: org.apache.hadoop.fs.s3a.SimpleAWSCredentialsProvider\n",
      "fs.s3a.committer.abort.pending.uploads: true\n",
      "fs.s3a.committer.magic.enabled: true\n",
      "fs.s3a.connection.timeout: 200s\n",
      "fs.s3a.change.detection.source: etag\n",
      "fs.s3a.socket.send.buffer: 8192\n",
      "fs.s3a.retry.throttle.limit: 20\n"
     ]
    }
   ],
   "source": [
    "hadoop_conf = spark.sparkContext._jsc.hadoopConfiguration()\n",
    "iterator = hadoop_conf.iterator()\n",
    "while iterator.hasNext():\n",
    "    entry = iterator.next()\n",
    "    if \"fs.s3a\" in entry.getKey():\n",
    "        print(f\"{entry.getKey()}: {entry.getValue()}\")"
   ]
  },
  {
   "cell_type": "code",
   "execution_count": 4,
   "id": "f16e53c5-b854-496e-98b3-085f81e7c10c",
   "metadata": {},
   "outputs": [],
   "source": [
    "hadoop_conf = spark.sparkContext._jsc.hadoopConfiguration()\n",
    "hadoop_conf.clear()  # Clear all Hadoop configurations\n",
    "hadoop_conf.set(\"fs.s3a.aws.credentials.provider\", \"com.amazonaws.auth.EnvironmentVariableCredentialsProvider\")\n",
    "hadoop_conf.set(\"fs.s3a.impl\", \"org.apache.hadoop.fs.s3a.S3AFileSystem\")\n",
    "hadoop_conf.set(\"fs.s3a.connection.timeout\", \"60000\")\n",
    "hadoop_conf.set(\"fs.s3a.socket.timeout\", \"60000\")\n",
    "hadoop_conf.set(\"fs.s3a.connection.establish.timeout\", \"60000\")\n",
    "hadoop_conf.set(\"fs.s3a.threads.keepalivetime\", \"60\")\n",
    "hadoop_conf.set(\"fs.s3a.multipart.purge.age\", \"24\")"
   ]
  },
  {
   "cell_type": "code",
   "execution_count": 54,
   "id": "dd8863f6-948b-4072-968d-c99c901efcab",
   "metadata": {},
   "outputs": [
    {
     "name": "stderr",
     "output_type": "stream",
     "text": [
      "                                                                                "
     ]
    }
   ],
   "source": [
    "df = spark.read.json(\"s3a://af-weather-lake-01/data/weather/\")"
   ]
  },
  {
   "cell_type": "code",
   "execution_count": 55,
   "id": "5f1daf51-1a0c-47ad-914e-0f0bf578fc33",
   "metadata": {},
   "outputs": [
    {
     "name": "stderr",
     "output_type": "stream",
     "text": [
      "                                                                                "
     ]
    },
    {
     "name": "stdout",
     "output_type": "stream",
     "text": [
      "+-----------+---------------+--------+\n",
      "|cloud_cover|           date|latitude|\n",
      "+-----------+---------------+--------+\n",
      "|        100|2025-09-02_0400|  23.125|\n",
      "|        100|2025-09-01_0800|  23.125|\n",
      "|        100|2025-09-01_0100|  23.125|\n",
      "|        100|2025-09-02_1300|  23.125|\n",
      "|        100|2025-09-01_0000|  23.125|\n",
      "|        100|2025-09-01_1400|  23.125|\n",
      "|        100|2025-09-01_2000|  23.125|\n",
      "|        100|2025-09-02_0500|  23.125|\n",
      "|        100|2025-09-02_0200|  23.125|\n",
      "|         87|2025-09-01_0500|  23.125|\n",
      "|        100|2025-09-01_0900|  23.125|\n",
      "|        100|2025-09-01_1000|  23.125|\n",
      "|        100|2025-08-31_2200|  23.125|\n",
      "|        100|2025-09-01_0700|  23.125|\n",
      "|        100|2025-09-01_0500|    25.0|\n",
      "|        100|2025-09-02_0400|    25.0|\n",
      "|        100|2025-09-01_0400|  23.125|\n",
      "|        100|2025-09-01_0600|  23.125|\n",
      "|        100|2025-09-01_1300|    25.0|\n",
      "|        100|2025-09-01_1700|    25.0|\n",
      "+-----------+---------------+--------+\n",
      "only showing top 20 rows\n"
     ]
    },
    {
     "name": "stderr",
     "output_type": "stream",
     "text": [
      "                                                                                "
     ]
    }
   ],
   "source": [
    "current_df = df.select(\"current.cloud_cover\", \"date\", \"latitude\").show()"
   ]
  },
  {
   "cell_type": "code",
   "execution_count": 8,
   "id": "9c506baa-8d0e-4fa6-84da-1e81d743f44e",
   "metadata": {},
   "outputs": [
    {
     "name": "stderr",
     "output_type": "stream",
     "text": [
      "[Stage 4:>                                                        (0 + 10) / 10]"
     ]
    },
    {
     "name": "stdout",
     "output_type": "stream",
     "text": [
      "+--------+\n",
      "|num_rows|\n",
      "+--------+\n",
      "|     120|\n",
      "+--------+\n",
      "\n"
     ]
    },
    {
     "name": "stderr",
     "output_type": "stream",
     "text": [
      "                                                                                "
     ]
    }
   ],
   "source": [
    "import pyspark.sql.functions as F\n",
    "\n",
    "count = df.select(\"*\")\\\n",
    "    .agg(\n",
    "        F.count(\"*\").alias(\"num_rows\")\n",
    "    ) \\\n",
    "    .show()"
   ]
  },
  {
   "cell_type": "code",
   "execution_count": 60,
   "id": "a168994e-046e-4e93-a482-89ee3d3b6993",
   "metadata": {},
   "outputs": [],
   "source": [
    "new_df = df.select(\"current.*\", \"date\", \"latitude\", \"longitude\") \\\n",
    "    .withColumn(\"file_path\", input_file_name()) \\\n",
    "    .withColumn(\"city\", regexp_extract(\"file_path\", r\"date=[^/]+/([^/]+)/[^/]+\\.json$\", 1))"
   ]
  },
  {
   "cell_type": "code",
   "execution_count": 67,
   "id": "a12570a5-d23c-4d4b-9576-8041c293cba9",
   "metadata": {},
   "outputs": [
    {
     "name": "stderr",
     "output_type": "stream",
     "text": [
      "                                                                                "
     ]
    },
    {
     "name": "stdout",
     "output_type": "stream",
     "text": [
      "+--------------------+-----------+--------+------+-------------+------------+----+--------------------+-------+----------------+--------------+----------------+------------+------------------+--------------+--------------+---------------+--------+---------+--------------------+------+\n",
      "|apparent_temperature|cloud_cover|interval|is_day|precipitation|pressure_msl|rain|relative_humidity_2m|showers|surface_pressure|temperature_2m|            time|weather_code|wind_direction_10m|wind_gusts_10m|wind_speed_10m|           date|latitude|longitude|           file_path|  city|\n",
      "+--------------------+-----------+--------+------+-------------+------------+----+--------------------+-------+----------------+--------------+----------------+------------+------------------+--------------+--------------+---------------+--------+---------+--------------------+------+\n",
      "|                91.1|        100|     900|     1|          0.1|      1003.0| 0.0|                  83|    0.1|           946.8|          81.1|2025-09-02T05:00|          80|               100|          14.8|           4.0|2025-09-02_0400|  23.125|   82.375|s3a://af-weather-...|havana|\n",
      "|                93.4|        100|     900|     1|          0.2|      1000.1| 0.0|                  74|    0.2|           944.4|          84.4|2025-09-01T09:00|          80|               137|          18.4|           7.4|2025-09-01_0800|  23.125|   82.375|s3a://af-weather-...|havana|\n",
      "|                83.5|        100|     900|     1|          0.2|      1003.2| 0.0|                  92|    0.2|           946.4|          75.2|2025-09-01T01:30|          80|               141|          11.5|           4.6|2025-09-01_0100|  23.125|   82.375|s3a://af-weather-...|havana|\n",
      "|                87.2|        100|     900|     0|          0.1|      1001.5| 0.0|                  88|    0.1|           945.1|          78.0|2025-09-02T14:00|          80|               121|          10.4|           4.2|2025-09-02_1300|  23.125|   82.375|s3a://af-weather-...|havana|\n",
      "|                83.3|        100|     900|     1|          0.2|      1002.7| 0.0|                  93|    0.2|           945.9|          74.8|2025-09-01T00:30|          95|               119|          11.5|           3.7|2025-09-01_0000|  23.125|   82.375|s3a://af-weather-...|havana|\n",
      "|                88.1|        100|     900|     0|          0.5|      1002.9| 0.0|                  89|    0.5|           946.4|          78.3|2025-09-01T15:00|          95|                90|          11.5|           3.2|2025-09-01_1400|  23.125|   82.375|s3a://af-weather-...|havana|\n",
      "|                85.8|        100|     900|     0|          0.0|      1001.3| 0.0|                  96|    0.0|           944.6|          75.6|2025-09-01T21:00|          45|               153|           5.8|           0.8|2025-09-01_2000|  23.125|   82.375|s3a://af-weather-...|havana|\n",
      "|                95.8|        100|     900|     1|          0.0|      1002.0| 0.0|                  77|    0.0|           946.1|          83.6|2025-09-02T06:00|           3|               117|          14.4|           0.8|2025-09-02_0500|  23.125|   82.375|s3a://af-weather-...|havana|\n",
      "|                87.0|        100|     900|     1|          0.1|      1003.7| 0.0|                  91|    0.1|           947.1|          77.2|2025-09-02T03:00|          80|               106|           7.6|           2.6|2025-09-02_0200|  23.125|   82.375|s3a://af-weather-...|havana|\n",
      "|                91.5|         87|     900|     1|          0.1|      1002.7| 0.0|                  80|    0.1|           946.6|          81.9|2025-09-01T06:00|          80|               148|          16.9|           4.7|2025-09-01_0500|  23.125|   82.375|s3a://af-weather-...|havana|\n",
      "|                93.1|        100|     900|     1|          0.2|       999.7| 0.0|                  74|    0.2|           944.0|          84.1|2025-09-01T10:00|          80|               141|          18.7|           6.9|2025-09-01_0900|  23.125|   82.375|s3a://af-weather-...|havana|\n",
      "|                90.8|        100|     900|     1|          0.0|       998.9| 0.0|                  70|    0.2|           943.1|          83.1|2025-09-01T11:00|          80|               144|          18.4|           6.2|2025-09-01_1000|  23.125|   82.375|s3a://af-weather-...|havana|\n",
      "|                83.8|        100|     900|     0|          0.3|      1002.3| 0.0|                  94|    0.3|           945.5|          75.2|2025-08-31T22:30|          80|               132|          10.8|           4.8|2025-08-31_2200|  23.125|   82.375|s3a://af-weather-...|havana|\n",
      "|                93.5|        100|     900|     1|          0.1|      1000.7| 0.0|                  74|    0.1|           944.9|          84.3|2025-09-01T08:00|           3|               133|          18.0|           6.4|2025-09-01_0700|  23.125|   82.375|s3a://af-weather-...|havana|\n",
      "|                90.7|        100|     900|     1|          0.1|      1001.4| 0.0|                  84|    0.1|           960.5|          82.0|2025-09-01T06:00|          80|               243|          24.8|          12.6|2025-09-01_0500|    25.0|   77.375|s3a://af-weather-...|nassau|\n",
      "|                85.8|        100|     900|     1|          0.1|      1002.8| 0.0|                  89|    0.1|           961.5|          78.3|2025-09-02T05:00|          80|               275|          24.1|          11.9|2025-09-02_0400|    25.0|   77.375|s3a://af-weather-...|nassau|\n",
      "|                89.1|        100|     900|     1|          0.1|      1003.5| 0.0|                  84|    0.1|           947.1|          80.0|2025-09-01T05:00|          80|               156|          18.4|           7.1|2025-09-01_0400|  23.125|   82.375|s3a://af-weather-...|havana|\n",
      "|                92.9|        100|     900|     1|          0.1|      1001.5| 0.0|                  78|    0.1|           945.6|          83.2|2025-09-01T07:00|           3|               155|          18.0|           6.0|2025-09-01_0600|  23.125|   82.375|s3a://af-weather-...|havana|\n",
      "|                87.7|        100|     900|     0|          0.4|      1000.1| 0.0|                  91|    0.4|           959.0|          78.3|2025-09-01T14:00|          80|               219|          15.5|           6.9|2025-09-01_1300|    25.0|   77.375|s3a://af-weather-...|nassau|\n",
      "|                84.3|        100|     900|     0|          0.1|      1001.7| 0.0|                  93|    0.0|           960.3|          76.4|2025-09-01T18:00|          80|               216|          17.6|           9.3|2025-09-01_1700|    25.0|   77.375|s3a://af-weather-...|nassau|\n",
      "+--------------------+-----------+--------+------+-------------+------------+----+--------------------+-------+----------------+--------------+----------------+------------+------------------+--------------+--------------+---------------+--------+---------+--------------------+------+\n",
      "only showing top 20 rows\n"
     ]
    },
    {
     "name": "stderr",
     "output_type": "stream",
     "text": [
      "                                                                                "
     ]
    }
   ],
   "source": [
    "reordered_df = new_df.select(\"*\") \\\n",
    "    .show()"
   ]
  },
  {
   "cell_type": "code",
   "execution_count": null,
   "id": "28269826-5980-4394-b4f9-a21a790147c4",
   "metadata": {},
   "outputs": [],
   "source": [
    "# s3://af-weather-lake-01/data/weather/date=2025-09-01_0300/miami/miami_2025-09-01_0300.json"
   ]
  }
 ],
 "metadata": {
  "kernelspec": {
   "display_name": "Python 3 (ipykernel)",
   "language": "python",
   "name": "python3"
  },
  "language_info": {
   "codemirror_mode": {
    "name": "ipython",
    "version": 3
   },
   "file_extension": ".py",
   "mimetype": "text/x-python",
   "name": "python",
   "nbconvert_exporter": "python",
   "pygments_lexer": "ipython3",
   "version": "3.13.5"
  }
 },
 "nbformat": 4,
 "nbformat_minor": 5
}
