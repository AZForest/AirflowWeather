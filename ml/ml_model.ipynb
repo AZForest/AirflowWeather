{
 "cells": [
  {
   "cell_type": "code",
   "execution_count": 382,
   "id": "9c4c119a-98b9-47f4-9575-050d8453cfc2",
   "metadata": {},
   "outputs": [],
   "source": [
    "from pyspark.sql import SparkSession\n",
    "import os\n",
    "import pyspark.sql.functions as F\n",
    "from pyspark.sql.functions import input_file_name, regexp_extract"
   ]
  },
  {
   "cell_type": "code",
   "execution_count": 383,
   "id": "3735b304-27f4-4531-bdd0-0125f7c98a7f",
   "metadata": {},
   "outputs": [],
   "source": [
    "spark = SparkSession.builder \\\n",
    "        .appName(\"S3ToAuroraPostgres\") \\\n",
    "        .config(\"spark.hadoop.fs.s3a.impl\", \"org.apache.hadoop.fs.s3a.S3AFileSystem\") \\\n",
    "        .config(\"spark.hadoop.fs.s3a.threads.keepalivetime\", \"60000\") \\\n",
    "        .config(\"spark.hadoop.fs.s3a.multipart.purge.age\", \"24\") \\\n",
    "        .config(\"spark.hadoop.fs.s3a.connection.establish.timeout\", \"30000\") \\\n",
    "        .config(\"spark.hadoop.fs.s3a.connection.timeout\", \"60000\") \\\n",
    "        .config(\"spark.hadoop.fs.s3a.aws.credentials.provider\", \"com.amazonaws.auth.EnvironmentVariableCredentialsProvider\") \\\n",
    "        .getOrCreate()"
   ]
  },
  {
   "cell_type": "code",
   "execution_count": 384,
   "id": "18ddfad0-4bcc-44bc-a5b8-3d188c18bbad",
   "metadata": {},
   "outputs": [
    {
     "name": "stdout",
     "output_type": "stream",
     "text": [
      "fs.s3a.connection.establish.timeout: 60000\n",
      "fs.s3a.impl: org.apache.hadoop.fs.s3a.S3AFileSystem\n",
      "fs.s3a.socket.timeout: 60000\n",
      "fs.s3a.threads.keepalivetime: 60\n",
      "fs.s3a.connection.timeout: 60000\n",
      "fs.s3a.multipart.purge.age: 24\n",
      "fs.s3a.aws.credentials.provider: com.amazonaws.auth.EnvironmentVariableCredentialsProvider\n"
     ]
    }
   ],
   "source": [
    "hadoop_conf = spark.sparkContext._jsc.hadoopConfiguration()\n",
    "iterator = hadoop_conf.iterator()\n",
    "while iterator.hasNext():\n",
    "    entry = iterator.next()\n",
    "    if \"fs.s3a\" in entry.getKey():\n",
    "        print(f\"{entry.getKey()}: {entry.getValue()}\")"
   ]
  },
  {
   "cell_type": "code",
   "execution_count": 385,
   "id": "cd721f1b-88a1-4c7a-99a7-767fed5b8de0",
   "metadata": {},
   "outputs": [],
   "source": [
    "hadoop_conf = spark.sparkContext._jsc.hadoopConfiguration()\n",
    "hadoop_conf.clear()  # Clear all Hadoop configurations\n",
    "hadoop_conf.set(\"fs.s3a.aws.credentials.provider\", \"com.amazonaws.auth.EnvironmentVariableCredentialsProvider\")\n",
    "hadoop_conf.set(\"fs.s3a.impl\", \"org.apache.hadoop.fs.s3a.S3AFileSystem\")\n",
    "hadoop_conf.set(\"fs.s3a.connection.timeout\", \"60000\")\n",
    "hadoop_conf.set(\"fs.s3a.socket.timeout\", \"60000\")\n",
    "hadoop_conf.set(\"fs.s3a.connection.establish.timeout\", \"60000\")\n",
    "hadoop_conf.set(\"fs.s3a.threads.keepalivetime\", \"60\")\n",
    "hadoop_conf.set(\"fs.s3a.multipart.purge.age\", \"24\")"
   ]
  },
  {
   "cell_type": "code",
   "execution_count": 386,
   "id": "e3523bdf-1d63-46a5-b5a8-ccbc24e5db28",
   "metadata": {},
   "outputs": [
    {
     "name": "stderr",
     "output_type": "stream",
     "text": [
      "                                                                                "
     ]
    }
   ],
   "source": [
    "df = spark.read.json(\"s3a://af-weather-lake-01/data/weather/\")"
   ]
  },
  {
   "cell_type": "code",
   "execution_count": 387,
   "id": "1bc49566-b5cd-4691-8d40-e793092165b5",
   "metadata": {},
   "outputs": [
    {
     "name": "stdout",
     "output_type": "stream",
     "text": [
      "+--------------------+-----------+--------+------+-------------+------------+----+--------------------+-------+----------------+--------------+----------------+------------+------------------+--------------+--------------+\n",
      "|apparent_temperature|cloud_cover|interval|is_day|precipitation|pressure_msl|rain|relative_humidity_2m|showers|surface_pressure|temperature_2m|            time|weather_code|wind_direction_10m|wind_gusts_10m|wind_speed_10m|\n",
      "+--------------------+-----------+--------+------+-------------+------------+----+--------------------+-------+----------------+--------------+----------------+------------+------------------+--------------+--------------+\n",
      "|                91.1|        100|     900|     1|          0.1|      1003.0| 0.0|                  83|    0.1|           946.8|          81.1|2025-09-02T05:00|          80|               100|          14.8|           4.0|\n",
      "|                81.2|        100|     900|     0|          1.0|      1000.4| 0.0|                  94|    1.0|           943.7|          74.6|2025-09-02T23:00|          95|               115|          21.2|          11.1|\n",
      "|                93.4|        100|     900|     1|          0.2|      1000.1| 0.0|                  74|    0.2|           944.4|          84.4|2025-09-01T09:00|          80|               137|          18.4|           7.4|\n",
      "|                83.5|        100|     900|     1|          0.2|      1003.2| 0.0|                  92|    0.2|           946.4|          75.2|2025-09-01T01:30|          80|               141|          11.5|           4.6|\n",
      "|                85.7|         83|     900|     1|          0.1|      1002.7| 0.0|                  87|    0.1|           946.2|          78.4|2025-09-03T04:30|          80|               134|          23.8|          12.0|\n",
      "+--------------------+-----------+--------+------+-------------+------------+----+--------------------+-------+----------------+--------------+----------------+------------+------------------+--------------+--------------+\n",
      "only showing top 5 rows\n"
     ]
    }
   ],
   "source": [
    "df.select(\"current.*\").show(5)"
   ]
  },
  {
   "cell_type": "code",
   "execution_count": 388,
   "id": "960685ad-a088-4bb6-9c75-e0efe3f4874d",
   "metadata": {},
   "outputs": [
    {
     "name": "stderr",
     "output_type": "stream",
     "text": [
      "[Stage 697:>                                                      (0 + 10) / 10]"
     ]
    },
    {
     "name": "stdout",
     "output_type": "stream",
     "text": [
      "+--------+\n",
      "|count(1)|\n",
      "+--------+\n",
      "|     188|\n",
      "+--------+\n",
      "\n"
     ]
    },
    {
     "name": "stderr",
     "output_type": "stream",
     "text": [
      "                                                                                "
     ]
    }
   ],
   "source": [
    "df.agg(\n",
    "    F.count(\"*\") \\\n",
    ").show()"
   ]
  },
  {
   "cell_type": "code",
   "execution_count": 389,
   "id": "003b1fe0-a777-46bb-9ceb-897a58e157bf",
   "metadata": {},
   "outputs": [
    {
     "name": "stdout",
     "output_type": "stream",
     "text": [
      "root\n",
      " |-- current: struct (nullable = true)\n",
      " |    |-- apparent_temperature: double (nullable = true)\n",
      " |    |-- cloud_cover: long (nullable = true)\n",
      " |    |-- interval: long (nullable = true)\n",
      " |    |-- is_day: long (nullable = true)\n",
      " |    |-- precipitation: double (nullable = true)\n",
      " |    |-- pressure_msl: double (nullable = true)\n",
      " |    |-- rain: double (nullable = true)\n",
      " |    |-- relative_humidity_2m: long (nullable = true)\n",
      " |    |-- showers: double (nullable = true)\n",
      " |    |-- surface_pressure: double (nullable = true)\n",
      " |    |-- temperature_2m: double (nullable = true)\n",
      " |    |-- time: string (nullable = true)\n",
      " |    |-- weather_code: long (nullable = true)\n",
      " |    |-- wind_direction_10m: long (nullable = true)\n",
      " |    |-- wind_gusts_10m: double (nullable = true)\n",
      " |    |-- wind_speed_10m: double (nullable = true)\n",
      " |-- current_units: struct (nullable = true)\n",
      " |    |-- apparent_temperature: string (nullable = true)\n",
      " |    |-- cloud_cover: string (nullable = true)\n",
      " |    |-- interval: string (nullable = true)\n",
      " |    |-- is_day: string (nullable = true)\n",
      " |    |-- precipitation: string (nullable = true)\n",
      " |    |-- pressure_msl: string (nullable = true)\n",
      " |    |-- rain: string (nullable = true)\n",
      " |    |-- relative_humidity_2m: string (nullable = true)\n",
      " |    |-- showers: string (nullable = true)\n",
      " |    |-- surface_pressure: string (nullable = true)\n",
      " |    |-- temperature_2m: string (nullable = true)\n",
      " |    |-- time: string (nullable = true)\n",
      " |    |-- weather_code: string (nullable = true)\n",
      " |    |-- wind_direction_10m: string (nullable = true)\n",
      " |    |-- wind_gusts_10m: string (nullable = true)\n",
      " |    |-- wind_speed_10m: string (nullable = true)\n",
      " |-- elevation: double (nullable = true)\n",
      " |-- generationtime_ms: double (nullable = true)\n",
      " |-- latitude: double (nullable = true)\n",
      " |-- longitude: double (nullable = true)\n",
      " |-- timezone: string (nullable = true)\n",
      " |-- timezone_abbreviation: string (nullable = true)\n",
      " |-- utc_offset_seconds: long (nullable = true)\n",
      " |-- date: string (nullable = true)\n",
      "\n"
     ]
    }
   ],
   "source": [
    "df.printSchema()"
   ]
  },
  {
   "cell_type": "code",
   "execution_count": 390,
   "id": "a1c1109b-6ea2-4d19-b487-d94ebf86b1ae",
   "metadata": {},
   "outputs": [],
   "source": [
    "work_df = df.select(\"current.*\", \"date\", \"latitude\", \"longitude\") \\\n",
    "    .withColumn(\"file_path\", input_file_name()) \\\n",
    "    .withColumn(\"city\", regexp_extract(\"file_path\", r\"date=[^/]+/([^/]+)/[^/]+\\.json$\", 1))"
   ]
  },
  {
   "cell_type": "code",
   "execution_count": 391,
   "id": "63d85c17-d021-4c79-ab23-89bb966ef3ef",
   "metadata": {},
   "outputs": [
    {
     "name": "stdout",
     "output_type": "stream",
     "text": [
      "root\n",
      " |-- apparent_temperature: double (nullable = true)\n",
      " |-- cloud_cover: long (nullable = true)\n",
      " |-- interval: long (nullable = true)\n",
      " |-- is_day: long (nullable = true)\n",
      " |-- precipitation: double (nullable = true)\n",
      " |-- pressure_msl: double (nullable = true)\n",
      " |-- rain: double (nullable = true)\n",
      " |-- relative_humidity_2m: long (nullable = true)\n",
      " |-- showers: double (nullable = true)\n",
      " |-- surface_pressure: double (nullable = true)\n",
      " |-- temperature_2m: double (nullable = true)\n",
      " |-- time: string (nullable = true)\n",
      " |-- weather_code: long (nullable = true)\n",
      " |-- wind_direction_10m: long (nullable = true)\n",
      " |-- wind_gusts_10m: double (nullable = true)\n",
      " |-- wind_speed_10m: double (nullable = true)\n",
      " |-- date: string (nullable = true)\n",
      " |-- latitude: double (nullable = true)\n",
      " |-- longitude: double (nullable = true)\n",
      " |-- file_path: string (nullable = false)\n",
      " |-- city: string (nullable = false)\n",
      "\n"
     ]
    }
   ],
   "source": [
    "work_df.printSchema()"
   ]
  },
  {
   "cell_type": "code",
   "execution_count": 392,
   "id": "b341497f-dc02-4931-8adf-a2b7545d0712",
   "metadata": {},
   "outputs": [
    {
     "name": "stdout",
     "output_type": "stream",
     "text": [
      "+------+\n",
      "|  city|\n",
      "+------+\n",
      "|havana|\n",
      "|havana|\n",
      "|havana|\n",
      "|havana|\n",
      "|havana|\n",
      "+------+\n",
      "only showing top 5 rows\n"
     ]
    }
   ],
   "source": [
    "work_df.select(\"city\").show(5)"
   ]
  },
  {
   "cell_type": "code",
   "execution_count": 393,
   "id": "abe903dd-5ab7-4851-b1cf-7bff2ffad0c1",
   "metadata": {},
   "outputs": [
    {
     "name": "stderr",
     "output_type": "stream",
     "text": [
      "[Stage 701:>                                                      (0 + 10) / 10]"
     ]
    },
    {
     "name": "stdout",
     "output_type": "stream",
     "text": [
      "+------+-------------+\n",
      "|  city|num_of_cities|\n",
      "+------+-------------+\n",
      "|havana|           62|\n",
      "|nassau|           63|\n",
      "| miami|           63|\n",
      "+------+-------------+\n",
      "\n"
     ]
    },
    {
     "name": "stderr",
     "output_type": "stream",
     "text": [
      "                                                                                "
     ]
    }
   ],
   "source": [
    "work_df.groupBy(\"city\") \\\n",
    "    .agg(\n",
    "        F.count(\"*\").alias(\"num_of_cities\")\n",
    "    ) \\\n",
    "    .show()"
   ]
  },
  {
   "cell_type": "code",
   "execution_count": 394,
   "id": "ee2b59d1-eb82-420a-9683-bc81b394093a",
   "metadata": {},
   "outputs": [
    {
     "name": "stderr",
     "output_type": "stream",
     "text": [
      "[Stage 704:>                                                      (0 + 10) / 10]"
     ]
    },
    {
     "name": "stdout",
     "output_type": "stream",
     "text": [
      "+---------------+------------+\n",
      "|           date|num_of_dates|\n",
      "+---------------+------------+\n",
      "|2025-09-01_1400|           3|\n",
      "|2025-09-01_2000|           3|\n",
      "|2025-09-01_0700|           3|\n",
      "+---------------+------------+\n",
      "only showing top 3 rows\n"
     ]
    },
    {
     "name": "stderr",
     "output_type": "stream",
     "text": [
      "                                                                                "
     ]
    }
   ],
   "source": [
    "work_df.groupBy(\"date\") \\\n",
    "    .agg(\n",
    "        F.count(\"*\").alias(\"num_of_dates\")\n",
    "    ) \\\n",
    "    .show(3)"
   ]
  },
  {
   "cell_type": "code",
   "execution_count": 395,
   "id": "95b3ded6-1f6f-4b26-88c0-28ee5b5bc834",
   "metadata": {},
   "outputs": [
    {
     "name": "stderr",
     "output_type": "stream",
     "text": [
      "[Stage 707:=====>                                                  (1 + 9) / 10]"
     ]
    },
    {
     "name": "stdout",
     "output_type": "stream",
     "text": [
      "+---------------+------------+\n",
      "|           date|num_of_dates|\n",
      "+---------------+------------+\n",
      "|2025-09-03_0400|           2|\n",
      "+---------------+------------+\n",
      "\n"
     ]
    },
    {
     "name": "stderr",
     "output_type": "stream",
     "text": [
      "                                                                                "
     ]
    }
   ],
   "source": [
    "work_df.groupBy(\"date\") \\\n",
    "    .agg(\n",
    "        F.count(\"*\").alias(\"num_of_dates\")\n",
    "    ) \\\n",
    "    .where(\"num_of_dates < 3\") \\\n",
    "    .show()"
   ]
  },
  {
   "cell_type": "code",
   "execution_count": 396,
   "id": "1e8c8257-4bcc-4cdb-9d13-91edcf0291ad",
   "metadata": {},
   "outputs": [],
   "source": [
    "clean_df = work_df.select(\"*\")\\\n",
    "    .where(work_df.date != \"2025-09-03_0400\")"
   ]
  },
  {
   "cell_type": "code",
   "execution_count": 397,
   "id": "f1922388-24e9-4e64-b9da-464799c6de74",
   "metadata": {},
   "outputs": [
    {
     "name": "stderr",
     "output_type": "stream",
     "text": [
      "[Stage 710:>                                                      (0 + 10) / 10]"
     ]
    },
    {
     "name": "stdout",
     "output_type": "stream",
     "text": [
      "+------+-------------+\n",
      "|  city|num_of_cities|\n",
      "+------+-------------+\n",
      "|havana|           62|\n",
      "|nassau|           62|\n",
      "| miami|           62|\n",
      "+------+-------------+\n",
      "\n"
     ]
    },
    {
     "name": "stderr",
     "output_type": "stream",
     "text": [
      "                                                                                "
     ]
    }
   ],
   "source": [
    "clean_df.groupBy(\"city\") \\\n",
    "    .agg(\n",
    "        F.count(\"*\").alias(\"num_of_cities\")\n",
    "    ) \\\n",
    "    .show()"
   ]
  },
  {
   "cell_type": "code",
   "execution_count": 398,
   "id": "3ba95d4b-c16b-4fcc-9bd0-2474a6688e7b",
   "metadata": {},
   "outputs": [
    {
     "name": "stderr",
     "output_type": "stream",
     "text": [
      "[Stage 713:>                                                      (0 + 10) / 10]"
     ]
    },
    {
     "name": "stdout",
     "output_type": "stream",
     "text": [
      "+--------+\n",
      "|count(1)|\n",
      "+--------+\n",
      "|     186|\n",
      "+--------+\n",
      "\n"
     ]
    },
    {
     "name": "stderr",
     "output_type": "stream",
     "text": [
      "                                                                                "
     ]
    }
   ],
   "source": [
    "clean_df.agg(F.count(\"*\")).show()"
   ]
  },
  {
   "cell_type": "code",
   "execution_count": 399,
   "id": "f3a77008-acb4-477d-a84e-1857414ccc92",
   "metadata": {},
   "outputs": [],
   "source": [
    "clean_df = clean_df.dropna()"
   ]
  },
  {
   "cell_type": "code",
   "execution_count": 400,
   "id": "8c079019-3bcb-40ef-b2d0-e23a1224052b",
   "metadata": {},
   "outputs": [
    {
     "name": "stderr",
     "output_type": "stream",
     "text": [
      "[Stage 716:>                                                      (0 + 10) / 10]"
     ]
    },
    {
     "name": "stdout",
     "output_type": "stream",
     "text": [
      "+--------+\n",
      "|count(1)|\n",
      "+--------+\n",
      "|     186|\n",
      "+--------+\n",
      "\n"
     ]
    },
    {
     "name": "stderr",
     "output_type": "stream",
     "text": [
      "                                                                                "
     ]
    }
   ],
   "source": [
    "clean_df.agg(F.count(\"*\")).show()"
   ]
  },
  {
   "cell_type": "code",
   "execution_count": 401,
   "id": "88e24533-6f27-44f1-91c5-a91d93c8576d",
   "metadata": {},
   "outputs": [
    {
     "name": "stdout",
     "output_type": "stream",
     "text": [
      "root\n",
      " |-- apparent_temperature: double (nullable = true)\n",
      " |-- cloud_cover: long (nullable = true)\n",
      " |-- interval: long (nullable = true)\n",
      " |-- is_day: long (nullable = true)\n",
      " |-- precipitation: double (nullable = true)\n",
      " |-- pressure_msl: double (nullable = true)\n",
      " |-- rain: double (nullable = true)\n",
      " |-- relative_humidity_2m: long (nullable = true)\n",
      " |-- showers: double (nullable = true)\n",
      " |-- surface_pressure: double (nullable = true)\n",
      " |-- temperature_2m: double (nullable = true)\n",
      " |-- time: string (nullable = true)\n",
      " |-- weather_code: long (nullable = true)\n",
      " |-- wind_direction_10m: long (nullable = true)\n",
      " |-- wind_gusts_10m: double (nullable = true)\n",
      " |-- wind_speed_10m: double (nullable = true)\n",
      " |-- date: string (nullable = true)\n",
      " |-- latitude: double (nullable = true)\n",
      " |-- longitude: double (nullable = true)\n",
      " |-- file_path: string (nullable = false)\n",
      " |-- city: string (nullable = false)\n",
      "\n"
     ]
    }
   ],
   "source": [
    "clean_df.printSchema()"
   ]
  },
  {
   "cell_type": "code",
   "execution_count": 402,
   "id": "20ff3d74-7dee-4c7d-9969-bc748357a68e",
   "metadata": {},
   "outputs": [
    {
     "name": "stderr",
     "output_type": "stream",
     "text": [
      "[Stage 720:>                                                        (0 + 4) / 4]"
     ]
    },
    {
     "name": "stdout",
     "output_type": "stream",
     "text": [
      "+----------------+------+\n",
      "|surface_pressure|  city|\n",
      "+----------------+------+\n",
      "|           946.8|havana|\n",
      "|           943.7|havana|\n",
      "|           944.4|havana|\n",
      "|           946.4|havana|\n",
      "|           946.2|havana|\n",
      "|           945.1|havana|\n",
      "|           946.4|havana|\n",
      "|           944.6|havana|\n",
      "|           946.1|havana|\n",
      "|           947.1|havana|\n",
      "|           946.6|havana|\n",
      "|           944.0|havana|\n",
      "|           943.1|havana|\n",
      "|           945.5|havana|\n",
      "|           944.9|havana|\n",
      "|           960.5|nassau|\n",
      "|           945.9|havana|\n",
      "|           944.4|havana|\n",
      "|           945.3|havana|\n",
      "|           961.5|nassau|\n",
      "|           943.7|havana|\n",
      "|           947.1|havana|\n",
      "|           945.6|havana|\n",
      "|           943.9|havana|\n",
      "|           959.0|nassau|\n",
      "|           960.3|nassau|\n",
      "|           960.0|nassau|\n",
      "|           945.0|havana|\n",
      "|           945.8|havana|\n",
      "|           960.6|nassau|\n",
      "|           945.4|havana|\n",
      "|           946.1|havana|\n",
      "|           961.6|nassau|\n",
      "|           943.8|havana|\n",
      "|           945.3|havana|\n",
      "|           944.0|havana|\n",
      "|           944.9|havana|\n",
      "|           960.6|nassau|\n",
      "|           944.4|havana|\n",
      "|           986.6| miami|\n",
      "|           960.5|nassau|\n",
      "|           958.4|nassau|\n",
      "|           960.9|nassau|\n",
      "|           961.0|nassau|\n",
      "|           960.6|nassau|\n",
      "|           949.1|havana|\n",
      "|           987.2| miami|\n",
      "|           944.3|havana|\n",
      "|           945.9|havana|\n",
      "|           945.1|havana|\n",
      "|           943.3|havana|\n",
      "|           943.9|havana|\n",
      "|           943.3|havana|\n",
      "|           943.3|havana|\n",
      "|           988.1| miami|\n",
      "|           987.1| miami|\n",
      "|           989.0| miami|\n",
      "|           944.5|havana|\n",
      "|           947.1|havana|\n",
      "|           958.8|nassau|\n",
      "+----------------+------+\n",
      "only showing top 60 rows\n"
     ]
    },
    {
     "name": "stderr",
     "output_type": "stream",
     "text": [
      "                                                                                "
     ]
    }
   ],
   "source": [
    "clean_df.select(clean_df.surface_pressure, clean_df.city).show(60)"
   ]
  },
  {
   "cell_type": "code",
   "execution_count": 403,
   "id": "5126b0b9-067f-484c-ae07-aa5f4eb6296c",
   "metadata": {},
   "outputs": [
    {
     "name": "stderr",
     "output_type": "stream",
     "text": [
      "                                                                                "
     ]
    },
    {
     "name": "stdout",
     "output_type": "stream",
     "text": [
      "Train size:  148\n"
     ]
    },
    {
     "name": "stderr",
     "output_type": "stream",
     "text": [
      "[Stage 724:>                                                      (0 + 10) / 10]"
     ]
    },
    {
     "name": "stdout",
     "output_type": "stream",
     "text": [
      "Test size:  38\n"
     ]
    },
    {
     "name": "stderr",
     "output_type": "stream",
     "text": [
      "                                                                                "
     ]
    }
   ],
   "source": [
    "train_data, test_data = clean_df.randomSplit([0.8, 0.2], seed=42)\n",
    "print(\"Train size: \", train_data.count())\n",
    "print(\"Test size: \", test_data.count())"
   ]
  },
  {
   "cell_type": "code",
   "execution_count": 404,
   "id": "1ef3b0ba-e41e-46db-8fc0-746bd32a90e8",
   "metadata": {},
   "outputs": [
    {
     "name": "stderr",
     "output_type": "stream",
     "text": [
      "                                                                                "
     ]
    }
   ],
   "source": [
    "from pyspark.ml.feature import StringIndexer\n",
    "\n",
    "indexer = StringIndexer(inputCol=\"city\", outputCol=\"city_index\")\n",
    "indexer_model = indexer.fit(train_data)\n",
    "train_data = indexer_model.transform(train_data)"
   ]
  },
  {
   "cell_type": "code",
   "execution_count": 405,
   "id": "107ce3d0-838b-4cac-ba2b-eee453864945",
   "metadata": {},
   "outputs": [],
   "source": [
    "# input_columns = [\"apparent_temperature\", \"cloud_cover\", \"interval\",\n",
    "#                  \"is_day\", \"precipitation\", \"pressure_msl\",\n",
    "#                  \"rain\", \"relative_humidity_2m\", \"showers\",\n",
    "#                  \"surface_pressure\", \"temperature_2m\",\n",
    "#                  \"wind_direction_10m\", \"wind_gusts_10m\", \"wind_speed_10m\"]\n",
    "input_columns = [\"apparent_temperature\", \"cloud_cover\", \"interval\",\n",
    "                 \"precipitation\", \"pressure_msl\",\n",
    "                \"rain\", \"relative_humidity_2m\", \"showers\",\n",
    "                 \"temperature_2m\",\n",
    "                  \"wind_direction_10m\", \"wind_gusts_10m\", \"wind_speed_10m\"\n",
    "                 ]\n",
    "# input_columns = [\"surface_pressure\"]"
   ]
  },
  {
   "cell_type": "code",
   "execution_count": 406,
   "id": "bd6fdf17-84de-4da4-96ac-87d57bb297d1",
   "metadata": {},
   "outputs": [],
   "source": [
    "from pyspark.ml.feature import VectorAssembler\n",
    "\n",
    "assembler = VectorAssembler(inputCols=input_columns, outputCol=\"unscaled_features\")\n",
    "train_data = assembler.transform(train_data)"
   ]
  },
  {
   "cell_type": "code",
   "execution_count": 407,
   "id": "8ae335f0-7cfd-4427-9793-869bd12f8569",
   "metadata": {},
   "outputs": [
    {
     "name": "stderr",
     "output_type": "stream",
     "text": [
      "                                                                                "
     ]
    }
   ],
   "source": [
    "from pyspark.ml.feature import StandardScaler\n",
    "\n",
    "scaler = StandardScaler(inputCol='unscaled_features', outputCol='features', withMean=True, withStd=True)\n",
    "\n",
    "scaler_model = scaler.fit(train_data)\n",
    "train_data = scaler_model.transform(train_data)"
   ]
  },
  {
   "cell_type": "code",
   "execution_count": 408,
   "id": "53f650ef-f977-40a7-a495-6581d7559907",
   "metadata": {},
   "outputs": [
    {
     "name": "stderr",
     "output_type": "stream",
     "text": [
      "[Stage 736:>                                                        (0 + 1) / 1]"
     ]
    },
    {
     "name": "stdout",
     "output_type": "stream",
     "text": [
      "+--------------------+-----------+--------+------+-------------+------------+----+--------------------+-------+----------------+--------------+----------------+------------+------------------+--------------+--------------+---------------+--------+---------+--------------------+------+----------+--------------------+--------------------+\n",
      "|apparent_temperature|cloud_cover|interval|is_day|precipitation|pressure_msl|rain|relative_humidity_2m|showers|surface_pressure|temperature_2m|            time|weather_code|wind_direction_10m|wind_gusts_10m|wind_speed_10m|           date|latitude|longitude|           file_path|  city|city_index|   unscaled_features|            features|\n",
      "+--------------------+-----------+--------+------+-------------+------------+----+--------------------+-------+----------------+--------------+----------------+------------+------------------+--------------+--------------+---------------+--------+---------+--------------------+------+----------+--------------------+--------------------+\n",
      "|                81.2|        100|     900|     0|          1.0|      1000.4| 0.0|                  94|    1.0|           943.7|          74.6|2025-09-02T23:00|          95|               115|          21.2|          11.1|2025-09-02_2200|  23.125|   82.375|s3a://af-weather-...|havana|       1.0|[81.2,100.0,900.0...|[-1.9482093717008...|\n",
      "|                83.3|        100|     900|     1|          0.2|      1002.7| 0.0|                  93|    0.2|           945.9|          74.8|2025-09-01T00:30|          95|               119|          11.5|           3.7|2025-09-01_0000|  23.125|   82.375|s3a://af-weather-...|havana|       1.0|[83.3,100.0,900.0...|[-1.4327556620519...|\n",
      "|                83.6|         85|     900|     1|          0.1|      1002.0| 0.0|                  91|    0.1|           945.3|          76.1|2025-09-03T02:00|          80|               102|          17.3|           8.8|2025-09-03_0100|  23.125|   82.375|s3a://af-weather-...|havana|       1.0|[83.6,85.0,900.0,...|[-1.3591194178163...|\n",
      "|                83.8|        100|     900|     0|          0.3|      1002.3| 0.0|                  94|    0.3|           945.5|          75.2|2025-08-31T22:30|          80|               132|          10.8|           4.8|2025-08-31_2200|  23.125|   82.375|s3a://af-weather-...|havana|       1.0|[83.8,100.0,900.0...|[-1.3100285883259...|\n",
      "|                85.3|        100|     900|     0|          0.1|      1001.0| 0.0|                  91|    0.1|           944.4|          76.2|2025-09-02T19:00|          80|               330|           5.0|           2.9|2025-09-02_1800|  23.125|   82.375|s3a://af-weather-...|havana|       1.0|[85.3,100.0,900.0...|[-0.9418473671481...|\n",
      "+--------------------+-----------+--------+------+-------------+------------+----+--------------------+-------+----------------+--------------+----------------+------------+------------------+--------------+--------------+---------------+--------+---------+--------------------+------+----------+--------------------+--------------------+\n",
      "only showing top 5 rows\n"
     ]
    },
    {
     "name": "stderr",
     "output_type": "stream",
     "text": [
      "                                                                                "
     ]
    }
   ],
   "source": [
    "train_data.show(5)"
   ]
  },
  {
   "cell_type": "code",
   "execution_count": 409,
   "id": "022fd4b9-3634-4939-86bb-474d0e530487",
   "metadata": {},
   "outputs": [
    {
     "name": "stderr",
     "output_type": "stream",
     "text": [
      "                                                                                "
     ]
    }
   ],
   "source": [
    "from pyspark.ml.classification import DecisionTreeClassifier\n",
    "\n",
    "dtc = DecisionTreeClassifier(featuresCol='features', labelCol='city_index')\n",
    "model = dtc.fit(train_data)"
   ]
  },
  {
   "cell_type": "code",
   "execution_count": 410,
   "id": "e0cbac5a-a363-4b63-9ee8-03e35ffd7db9",
   "metadata": {},
   "outputs": [
    {
     "name": "stderr",
     "output_type": "stream",
     "text": [
      "[Stage 751:>                                                        (0 + 1) / 1]"
     ]
    },
    {
     "name": "stdout",
     "output_type": "stream",
     "text": [
      "+--------------------+-----------+--------+------+-------------+------------+----+--------------------+-------+----------------+--------------+----------------+------------+------------------+--------------+--------------+---------------+--------+---------+--------------------+------+----------+--------------------+--------------------+\n",
      "|apparent_temperature|cloud_cover|interval|is_day|precipitation|pressure_msl|rain|relative_humidity_2m|showers|surface_pressure|temperature_2m|            time|weather_code|wind_direction_10m|wind_gusts_10m|wind_speed_10m|           date|latitude|longitude|           file_path|  city|city_index|   unscaled_features|            features|\n",
      "+--------------------+-----------+--------+------+-------------+------------+----+--------------------+-------+----------------+--------------+----------------+------------+------------------+--------------+--------------+---------------+--------+---------+--------------------+------+----------+--------------------+--------------------+\n",
      "|                83.5|        100|     900|     1|          0.2|      1003.2| 0.0|                  92|    0.2|           946.4|          75.2|2025-09-01T01:30|          80|               141|          11.5|           4.6|2025-09-01_0100|  23.125|   82.375|s3a://af-weather-...|havana|       1.0|[83.5,100.0,900.0...|[-1.3836648325615...|\n",
      "+--------------------+-----------+--------+------+-------------+------------+----+--------------------+-------+----------------+--------------+----------------+------------+------------------+--------------+--------------+---------------+--------+---------+--------------------+------+----------+--------------------+--------------------+\n",
      "only showing top 1 row\n"
     ]
    },
    {
     "name": "stderr",
     "output_type": "stream",
     "text": [
      "                                                                                "
     ]
    }
   ],
   "source": [
    "test_data = indexer_model.transform(test_data)\n",
    "test_data = assembler.transform(test_data)\n",
    "test_data = scaler_model.transform(test_data)\n",
    "test_data.show(1)"
   ]
  },
  {
   "cell_type": "code",
   "execution_count": 411,
   "id": "08d06b55-9e00-44ea-9f68-d4fe33b72d3e",
   "metadata": {},
   "outputs": [
    {
     "name": "stderr",
     "output_type": "stream",
     "text": [
      "[Stage 752:>                                                        (0 + 1) / 1]"
     ]
    },
    {
     "name": "stdout",
     "output_type": "stream",
     "text": [
      "+--------------------+-----------+--------+------+-------------+------------+----+--------------------+-------+----------------+--------------+----------------+------------+------------------+--------------+--------------+---------------+--------+---------+--------------------+------+----------+--------------------+--------------------+--------------+-------------+----------+\n",
      "|apparent_temperature|cloud_cover|interval|is_day|precipitation|pressure_msl|rain|relative_humidity_2m|showers|surface_pressure|temperature_2m|            time|weather_code|wind_direction_10m|wind_gusts_10m|wind_speed_10m|           date|latitude|longitude|           file_path|  city|city_index|   unscaled_features|            features| rawPrediction|  probability|prediction|\n",
      "+--------------------+-----------+--------+------+-------------+------------+----+--------------------+-------+----------------+--------------+----------------+------------+------------------+--------------+--------------+---------------+--------+---------+--------------------+------+----------+--------------------+--------------------+--------------+-------------+----------+\n",
      "|                83.5|        100|     900|     1|          0.2|      1003.2| 0.0|                  92|    0.2|           946.4|          75.2|2025-09-01T01:30|          80|               141|          11.5|           4.6|2025-09-01_0100|  23.125|   82.375|s3a://af-weather-...|havana|       1.0|[83.5,100.0,900.0...|[-1.3836648325615...|[0.0,24.0,0.0]|[0.0,1.0,0.0]|       1.0|\n",
      "|                85.7|         83|     900|     1|          0.1|      1002.7| 0.0|                  87|    0.1|           946.2|          78.4|2025-09-03T04:30|          80|               134|          23.8|          12.0|2025-09-03_0300|  23.125|   82.375|s3a://af-weather-...|havana|       1.0|[85.7,83.0,900.0,...|[-0.8436657081673...|[0.0,24.0,0.0]|[0.0,1.0,0.0]|       1.0|\n",
      "|                87.0|        100|     900|     1|          0.1|      1003.7| 0.0|                  91|    0.1|           947.1|          77.2|2025-09-02T03:00|          80|               106|           7.6|           2.6|2025-09-02_0200|  23.125|   82.375|s3a://af-weather-...|havana|       1.0|[87.0,100.0,900.0...|[-0.5245753164799...|[0.0,24.0,0.0]|[0.0,1.0,0.0]|       1.0|\n",
      "+--------------------+-----------+--------+------+-------------+------------+----+--------------------+-------+----------------+--------------+----------------+------------+------------------+--------------+--------------+---------------+--------+---------+--------------------+------+----------+--------------------+--------------------+--------------+-------------+----------+\n",
      "only showing top 3 rows\n"
     ]
    },
    {
     "name": "stderr",
     "output_type": "stream",
     "text": [
      "                                                                                "
     ]
    }
   ],
   "source": [
    "predictions = model.transform(test_data)\n",
    "predictions.show(3)"
   ]
  },
  {
   "cell_type": "code",
   "execution_count": 412,
   "id": "37a0dce3-8918-4e4a-9243-869112fca37b",
   "metadata": {},
   "outputs": [
    {
     "name": "stderr",
     "output_type": "stream",
     "text": [
      "[Stage 754:>                                                        (0 + 3) / 3]"
     ]
    },
    {
     "name": "stdout",
     "output_type": "stream",
     "text": [
      "+--------------------+----------+----------+\n",
      "|            features|city_index|prediction|\n",
      "+--------------------+----------+----------+\n",
      "|[-1.3836648325615...|       1.0|       1.0|\n",
      "|[-0.8436657081673...|       1.0|       1.0|\n",
      "|[-0.5245753164799...|       1.0|       1.0|\n",
      "|[0.48178668807278...|       1.0|       1.0|\n",
      "|[-1.7273006389941...|       1.0|       1.0|\n",
      "|[-0.8191202934222...|       0.0|       0.0|\n",
      "|[-0.8191202934222...|       1.0|       0.0|\n",
      "|[-0.0091216068309...|       1.0|       1.0|\n",
      "|[0.92360415348617...|       1.0|       1.0|\n",
      "|[-1.0400290261288...|       1.0|       0.0|\n",
      "+--------------------+----------+----------+\n",
      "only showing top 10 rows\n"
     ]
    },
    {
     "name": "stderr",
     "output_type": "stream",
     "text": [
      "                                                                                "
     ]
    }
   ],
   "source": [
    "predictions.select('features', 'city_index', 'prediction').show(10)"
   ]
  },
  {
   "cell_type": "code",
   "execution_count": 413,
   "id": "1c2a08ab-9880-4e20-9bb7-c129c99077d8",
   "metadata": {},
   "outputs": [
    {
     "name": "stderr",
     "output_type": "stream",
     "text": [
      "[Stage 755:>                                                      (0 + 10) / 10]"
     ]
    },
    {
     "name": "stdout",
     "output_type": "stream",
     "text": [
      "Accuracy = 81.58%\n"
     ]
    },
    {
     "name": "stderr",
     "output_type": "stream",
     "text": [
      "                                                                                "
     ]
    }
   ],
   "source": [
    "from pyspark.ml.evaluation import MulticlassClassificationEvaluator\n",
    "\n",
    "accuracty_evaluator = MulticlassClassificationEvaluator(labelCol='city_index', predictionCol='prediction', metricName='accuracy')\n",
    "accuracy = accuracty_evaluator.evaluate(predictions) * 100\n",
    "print(f'Accuracy = {accuracy:.2f}%')"
   ]
  },
  {
   "cell_type": "code",
   "execution_count": null,
   "id": "a6e9fe92-0160-43d2-9286-7aa85147dbc0",
   "metadata": {},
   "outputs": [],
   "source": []
  }
 ],
 "metadata": {
  "kernelspec": {
   "display_name": "Python 3 (ipykernel)",
   "language": "python",
   "name": "python3"
  },
  "language_info": {
   "codemirror_mode": {
    "name": "ipython",
    "version": 3
   },
   "file_extension": ".py",
   "mimetype": "text/x-python",
   "name": "python",
   "nbconvert_exporter": "python",
   "pygments_lexer": "ipython3",
   "version": "3.12.11"
  }
 },
 "nbformat": 4,
 "nbformat_minor": 5
}
