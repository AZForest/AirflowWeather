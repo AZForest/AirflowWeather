{
 "cells": [
  {
   "cell_type": "code",
   "execution_count": 123,
   "id": "9c4c119a-98b9-47f4-9575-050d8453cfc2",
   "metadata": {},
   "outputs": [],
   "source": [
    "from pyspark.sql import SparkSession\n",
    "import os\n",
    "import pyspark.sql.functions as F\n",
    "from pyspark.sql.functions import input_file_name, regexp_extract"
   ]
  },
  {
   "cell_type": "code",
   "execution_count": 124,
   "id": "3735b304-27f4-4531-bdd0-0125f7c98a7f",
   "metadata": {},
   "outputs": [],
   "source": [
    "spark = SparkSession.builder \\\n",
    "        .appName(\"S3ToAuroraPostgres\") \\\n",
    "        .config(\"spark.hadoop.fs.s3a.impl\", \"org.apache.hadoop.fs.s3a.S3AFileSystem\") \\\n",
    "        .config(\"spark.hadoop.fs.s3a.threads.keepalivetime\", \"60000\") \\\n",
    "        .config(\"spark.hadoop.fs.s3a.multipart.purge.age\", \"24\") \\\n",
    "        .config(\"spark.hadoop.fs.s3a.connection.establish.timeout\", \"30000\") \\\n",
    "        .config(\"spark.hadoop.fs.s3a.connection.timeout\", \"60000\") \\\n",
    "        .config(\"spark.hadoop.fs.s3a.aws.credentials.provider\", \"com.amazonaws.auth.EnvironmentVariableCredentialsProvider\") \\\n",
    "        .getOrCreate()"
   ]
  },
  {
   "cell_type": "code",
   "execution_count": 86,
   "id": "18ddfad0-4bcc-44bc-a5b8-3d188c18bbad",
   "metadata": {},
   "outputs": [
    {
     "name": "stdout",
     "output_type": "stream",
     "text": [
      "fs.s3a.connection.establish.timeout: 60000\n",
      "fs.s3a.impl: org.apache.hadoop.fs.s3a.S3AFileSystem\n",
      "fs.s3a.socket.timeout: 60000\n",
      "fs.s3a.threads.keepalivetime: 60\n",
      "fs.s3a.connection.timeout: 60000\n",
      "fs.s3a.multipart.purge.age: 24\n",
      "fs.s3a.aws.credentials.provider: com.amazonaws.auth.EnvironmentVariableCredentialsProvider\n"
     ]
    }
   ],
   "source": [
    "hadoop_conf = spark.sparkContext._jsc.hadoopConfiguration()\n",
    "iterator = hadoop_conf.iterator()\n",
    "while iterator.hasNext():\n",
    "    entry = iterator.next()\n",
    "    if \"fs.s3a\" in entry.getKey():\n",
    "        print(f\"{entry.getKey()}: {entry.getValue()}\")"
   ]
  },
  {
   "cell_type": "code",
   "execution_count": 125,
   "id": "cd721f1b-88a1-4c7a-99a7-767fed5b8de0",
   "metadata": {},
   "outputs": [],
   "source": [
    "hadoop_conf = spark.sparkContext._jsc.hadoopConfiguration()\n",
    "hadoop_conf.clear()  # Clear all Hadoop configurations\n",
    "hadoop_conf.set(\"fs.s3a.aws.credentials.provider\", \"com.amazonaws.auth.EnvironmentVariableCredentialsProvider\")\n",
    "hadoop_conf.set(\"fs.s3a.impl\", \"org.apache.hadoop.fs.s3a.S3AFileSystem\")\n",
    "hadoop_conf.set(\"fs.s3a.connection.timeout\", \"60000\")\n",
    "hadoop_conf.set(\"fs.s3a.socket.timeout\", \"60000\")\n",
    "hadoop_conf.set(\"fs.s3a.connection.establish.timeout\", \"60000\")\n",
    "hadoop_conf.set(\"fs.s3a.threads.keepalivetime\", \"60\")\n",
    "hadoop_conf.set(\"fs.s3a.multipart.purge.age\", \"24\")"
   ]
  },
  {
   "cell_type": "code",
   "execution_count": 126,
   "id": "e3523bdf-1d63-46a5-b5a8-ccbc24e5db28",
   "metadata": {},
   "outputs": [
    {
     "name": "stderr",
     "output_type": "stream",
     "text": [
      "                                                                                "
     ]
    }
   ],
   "source": [
    "df = spark.read.json(\"s3a://af-weather-lake-01/data/weather/\")"
   ]
  },
  {
   "cell_type": "code",
   "execution_count": 127,
   "id": "1bc49566-b5cd-4691-8d40-e793092165b5",
   "metadata": {},
   "outputs": [
    {
     "name": "stdout",
     "output_type": "stream",
     "text": [
      "+--------------------+-----------+--------+------+-------------+------------+----+--------------------+-------+----------------+--------------+----------------+------------+------------------+--------------+--------------+\n",
      "|apparent_temperature|cloud_cover|interval|is_day|precipitation|pressure_msl|rain|relative_humidity_2m|showers|surface_pressure|temperature_2m|            time|weather_code|wind_direction_10m|wind_gusts_10m|wind_speed_10m|\n",
      "+--------------------+-----------+--------+------+-------------+------------+----+--------------------+-------+----------------+--------------+----------------+------------+------------------+--------------+--------------+\n",
      "|                90.5|        100|     900|     0|          0.1|      1006.0| 0.0|                  83|    0.1|           949.5|          80.3|2025-09-08T14:00|          80|               143|          10.1|           1.8|\n",
      "|                91.1|        100|     900|     1|          0.1|      1003.0| 0.0|                  83|    0.1|           946.8|          81.1|2025-09-02T05:00|          80|               100|          14.8|           4.0|\n",
      "|                81.2|        100|     900|     0|          1.0|      1000.4| 0.0|                  94|    1.0|           943.7|          74.6|2025-09-02T23:00|          95|               115|          21.2|          11.1|\n",
      "|                93.4|        100|     900|     1|          0.2|      1000.1| 0.0|                  74|    0.2|           944.4|          84.4|2025-09-01T09:00|          80|               137|          18.4|           7.4|\n",
      "|                83.5|        100|     900|     1|          0.2|      1003.2| 0.0|                  92|    0.2|           946.4|          75.2|2025-09-01T01:30|          80|               141|          11.5|           4.6|\n",
      "+--------------------+-----------+--------+------+-------------+------------+----+--------------------+-------+----------------+--------------+----------------+------------+------------------+--------------+--------------+\n",
      "only showing top 5 rows\n"
     ]
    }
   ],
   "source": [
    "df.select(\"current.*\").show(5)"
   ]
  },
  {
   "cell_type": "code",
   "execution_count": 128,
   "id": "960685ad-a088-4bb6-9c75-e0efe3f4874d",
   "metadata": {},
   "outputs": [
    {
     "name": "stderr",
     "output_type": "stream",
     "text": [
      "[Stage 212:=====>                                                  (1 + 9) / 10]"
     ]
    },
    {
     "name": "stdout",
     "output_type": "stream",
     "text": [
      "+--------+\n",
      "|count(1)|\n",
      "+--------+\n",
      "|     295|\n",
      "+--------+\n",
      "\n"
     ]
    },
    {
     "name": "stderr",
     "output_type": "stream",
     "text": [
      "                                                                                "
     ]
    }
   ],
   "source": [
    "df.agg(\n",
    "    F.count(\"*\") \\\n",
    ").show()"
   ]
  },
  {
   "cell_type": "code",
   "execution_count": 91,
   "id": "003b1fe0-a777-46bb-9ceb-897a58e157bf",
   "metadata": {},
   "outputs": [
    {
     "name": "stdout",
     "output_type": "stream",
     "text": [
      "root\n",
      " |-- current: struct (nullable = true)\n",
      " |    |-- apparent_temperature: double (nullable = true)\n",
      " |    |-- cloud_cover: long (nullable = true)\n",
      " |    |-- interval: long (nullable = true)\n",
      " |    |-- is_day: long (nullable = true)\n",
      " |    |-- precipitation: double (nullable = true)\n",
      " |    |-- pressure_msl: double (nullable = true)\n",
      " |    |-- rain: double (nullable = true)\n",
      " |    |-- relative_humidity_2m: long (nullable = true)\n",
      " |    |-- showers: double (nullable = true)\n",
      " |    |-- surface_pressure: double (nullable = true)\n",
      " |    |-- temperature_2m: double (nullable = true)\n",
      " |    |-- time: string (nullable = true)\n",
      " |    |-- weather_code: long (nullable = true)\n",
      " |    |-- wind_direction_10m: long (nullable = true)\n",
      " |    |-- wind_gusts_10m: double (nullable = true)\n",
      " |    |-- wind_speed_10m: double (nullable = true)\n",
      " |-- current_units: struct (nullable = true)\n",
      " |    |-- apparent_temperature: string (nullable = true)\n",
      " |    |-- cloud_cover: string (nullable = true)\n",
      " |    |-- interval: string (nullable = true)\n",
      " |    |-- is_day: string (nullable = true)\n",
      " |    |-- precipitation: string (nullable = true)\n",
      " |    |-- pressure_msl: string (nullable = true)\n",
      " |    |-- rain: string (nullable = true)\n",
      " |    |-- relative_humidity_2m: string (nullable = true)\n",
      " |    |-- showers: string (nullable = true)\n",
      " |    |-- surface_pressure: string (nullable = true)\n",
      " |    |-- temperature_2m: string (nullable = true)\n",
      " |    |-- time: string (nullable = true)\n",
      " |    |-- weather_code: string (nullable = true)\n",
      " |    |-- wind_direction_10m: string (nullable = true)\n",
      " |    |-- wind_gusts_10m: string (nullable = true)\n",
      " |    |-- wind_speed_10m: string (nullable = true)\n",
      " |-- elevation: double (nullable = true)\n",
      " |-- generationtime_ms: double (nullable = true)\n",
      " |-- latitude: double (nullable = true)\n",
      " |-- longitude: double (nullable = true)\n",
      " |-- timezone: string (nullable = true)\n",
      " |-- timezone_abbreviation: string (nullable = true)\n",
      " |-- utc_offset_seconds: long (nullable = true)\n",
      " |-- date: string (nullable = true)\n",
      "\n"
     ]
    }
   ],
   "source": [
    "df.printSchema()"
   ]
  },
  {
   "cell_type": "code",
   "execution_count": 129,
   "id": "a1c1109b-6ea2-4d19-b487-d94ebf86b1ae",
   "metadata": {},
   "outputs": [],
   "source": [
    "work_df = df.select(\"current.*\", \"date\", \"latitude\", \"longitude\") \\\n",
    "    .withColumn(\"file_path\", input_file_name()) \\\n",
    "    .withColumn(\"city\", regexp_extract(\"file_path\", r\"date=[^/]+/([^/]+)/[^/]+\\.json$\", 1))"
   ]
  },
  {
   "cell_type": "code",
   "execution_count": 93,
   "id": "63d85c17-d021-4c79-ab23-89bb966ef3ef",
   "metadata": {},
   "outputs": [
    {
     "name": "stdout",
     "output_type": "stream",
     "text": [
      "root\n",
      " |-- apparent_temperature: double (nullable = true)\n",
      " |-- cloud_cover: long (nullable = true)\n",
      " |-- interval: long (nullable = true)\n",
      " |-- is_day: long (nullable = true)\n",
      " |-- precipitation: double (nullable = true)\n",
      " |-- pressure_msl: double (nullable = true)\n",
      " |-- rain: double (nullable = true)\n",
      " |-- relative_humidity_2m: long (nullable = true)\n",
      " |-- showers: double (nullable = true)\n",
      " |-- surface_pressure: double (nullable = true)\n",
      " |-- temperature_2m: double (nullable = true)\n",
      " |-- time: string (nullable = true)\n",
      " |-- weather_code: long (nullable = true)\n",
      " |-- wind_direction_10m: long (nullable = true)\n",
      " |-- wind_gusts_10m: double (nullable = true)\n",
      " |-- wind_speed_10m: double (nullable = true)\n",
      " |-- date: string (nullable = true)\n",
      " |-- latitude: double (nullable = true)\n",
      " |-- longitude: double (nullable = true)\n",
      " |-- file_path: string (nullable = false)\n",
      " |-- city: string (nullable = false)\n",
      "\n"
     ]
    }
   ],
   "source": [
    "work_df.printSchema()"
   ]
  },
  {
   "cell_type": "code",
   "execution_count": 94,
   "id": "b341497f-dc02-4931-8adf-a2b7545d0712",
   "metadata": {},
   "outputs": [
    {
     "name": "stdout",
     "output_type": "stream",
     "text": [
      "+------+\n",
      "|  city|\n",
      "+------+\n",
      "|havana|\n",
      "|havana|\n",
      "|havana|\n",
      "|havana|\n",
      "|havana|\n",
      "+------+\n",
      "only showing top 5 rows\n"
     ]
    }
   ],
   "source": [
    "work_df.select(\"city\").show(5)"
   ]
  },
  {
   "cell_type": "code",
   "execution_count": 130,
   "id": "abe903dd-5ab7-4851-b1cf-7bff2ffad0c1",
   "metadata": {},
   "outputs": [
    {
     "name": "stderr",
     "output_type": "stream",
     "text": [
      "[Stage 215:==================================================>     (9 + 1) / 10]"
     ]
    },
    {
     "name": "stdout",
     "output_type": "stream",
     "text": [
      "+------+-------------+\n",
      "|  city|num_of_cities|\n",
      "+------+-------------+\n",
      "|havana|           97|\n",
      "|nassau|           99|\n",
      "| miami|           99|\n",
      "+------+-------------+\n",
      "\n"
     ]
    },
    {
     "name": "stderr",
     "output_type": "stream",
     "text": [
      "                                                                                "
     ]
    }
   ],
   "source": [
    "work_df.groupBy(\"city\") \\\n",
    "    .agg(\n",
    "        F.count(\"*\").alias(\"num_of_cities\")\n",
    "    ) \\\n",
    "    .show()"
   ]
  },
  {
   "cell_type": "code",
   "execution_count": 96,
   "id": "ee2b59d1-eb82-420a-9683-bc81b394093a",
   "metadata": {},
   "outputs": [
    {
     "name": "stderr",
     "output_type": "stream",
     "text": [
      "[Stage 139:>                                                      (0 + 10) / 10]"
     ]
    },
    {
     "name": "stdout",
     "output_type": "stream",
     "text": [
      "+---------------+------------+\n",
      "|           date|num_of_dates|\n",
      "+---------------+------------+\n",
      "|2025-09-02_2100|           3|\n",
      "|2025-09-01_1400|           3|\n",
      "|2025-09-01_2000|           3|\n",
      "+---------------+------------+\n",
      "only showing top 3 rows\n"
     ]
    },
    {
     "name": "stderr",
     "output_type": "stream",
     "text": [
      "                                                                                "
     ]
    }
   ],
   "source": [
    "work_df.groupBy(\"date\") \\\n",
    "    .agg(\n",
    "        F.count(\"*\").alias(\"num_of_dates\")\n",
    "    ) \\\n",
    "    .show(3)"
   ]
  },
  {
   "cell_type": "code",
   "execution_count": 143,
   "id": "95b3ded6-1f6f-4b26-88c0-28ee5b5bc834",
   "metadata": {},
   "outputs": [
    {
     "name": "stderr",
     "output_type": "stream",
     "text": [
      "[Stage 239:==================================================>     (9 + 1) / 10]"
     ]
    },
    {
     "name": "stdout",
     "output_type": "stream",
     "text": [
      "+---------------+------------+\n",
      "|           date|num_of_dates|\n",
      "+---------------+------------+\n",
      "|2025-09-03_0400|           2|\n",
      "|2025-09-09_1800|           2|\n",
      "+---------------+------------+\n",
      "\n"
     ]
    },
    {
     "name": "stderr",
     "output_type": "stream",
     "text": [
      "                                                                                "
     ]
    }
   ],
   "source": [
    "work_df.groupBy(\"date\") \\\n",
    "    .agg(\n",
    "        F.count(\"*\").alias(\"num_of_dates\")\n",
    "    ) \\\n",
    "    .where(\"num_of_dates < 3\") \\\n",
    "    .show()"
   ]
  },
  {
   "cell_type": "code",
   "execution_count": 148,
   "id": "1e8c8257-4bcc-4cdb-9d13-91edcf0291ad",
   "metadata": {},
   "outputs": [],
   "source": [
    "# clean_df = work_df.select(\"*\")\\\n",
    "#     .where(work_df.date != \"2025-09-03_0400\")\n",
    "valid_dates_df = work_df.groupBy(\"date\") \\\n",
    "    .agg(\n",
    "        F.count(\"*\").alias(\"num_of_dates\")\n",
    "    ) \\\n",
    "    .where(\"num_of_dates == 3\") \\\n",
    "    .select(\"date\") \n",
    "clean_df = work_df.join(valid_dates_df, \"date\", \"inner\")\n",
    "# clean_df.show()"
   ]
  },
  {
   "cell_type": "code",
   "execution_count": 149,
   "id": "f1922388-24e9-4e64-b9da-464799c6de74",
   "metadata": {},
   "outputs": [
    {
     "name": "stderr",
     "output_type": "stream",
     "text": [
      "[Stage 258:================>                                       (3 + 7) / 10]"
     ]
    },
    {
     "name": "stdout",
     "output_type": "stream",
     "text": [
      "+------+-------------+\n",
      "|  city|num_of_cities|\n",
      "+------+-------------+\n",
      "|havana|           97|\n",
      "|nassau|           97|\n",
      "| miami|           97|\n",
      "+------+-------------+\n",
      "\n"
     ]
    },
    {
     "name": "stderr",
     "output_type": "stream",
     "text": [
      "                                                                                "
     ]
    }
   ],
   "source": [
    "clean_df.groupBy(\"city\") \\\n",
    "    .agg(\n",
    "        F.count(\"*\").alias(\"num_of_cities\")\n",
    "    ) \\\n",
    "    .show()"
   ]
  },
  {
   "cell_type": "code",
   "execution_count": 150,
   "id": "3ba95d4b-c16b-4fcc-9bd0-2474a6688e7b",
   "metadata": {},
   "outputs": [
    {
     "name": "stderr",
     "output_type": "stream",
     "text": [
      "[Stage 264:============================================>           (8 + 2) / 10]"
     ]
    },
    {
     "name": "stdout",
     "output_type": "stream",
     "text": [
      "+--------+\n",
      "|count(1)|\n",
      "+--------+\n",
      "|     291|\n",
      "+--------+\n",
      "\n"
     ]
    },
    {
     "name": "stderr",
     "output_type": "stream",
     "text": [
      "                                                                                "
     ]
    }
   ],
   "source": [
    "clean_df.agg(F.count(\"*\")).show()"
   ]
  },
  {
   "cell_type": "code",
   "execution_count": 153,
   "id": "2a97f8f5-7a7e-452e-80b7-397e4bb046a1",
   "metadata": {},
   "outputs": [
    {
     "name": "stderr",
     "output_type": "stream",
     "text": [
      "                                                                                "
     ]
    },
    {
     "data": {
      "text/plain": [
       "291"
      ]
     },
     "execution_count": 153,
     "metadata": {},
     "output_type": "execute_result"
    }
   ],
   "source": [
    "clean_df.count()"
   ]
  },
  {
   "cell_type": "code",
   "execution_count": 151,
   "id": "f3a77008-acb4-477d-a84e-1857414ccc92",
   "metadata": {},
   "outputs": [],
   "source": [
    "clean_df = clean_df.dropna()"
   ]
  },
  {
   "cell_type": "code",
   "execution_count": 152,
   "id": "8c079019-3bcb-40ef-b2d0-e23a1224052b",
   "metadata": {},
   "outputs": [
    {
     "name": "stderr",
     "output_type": "stream",
     "text": [
      "[Stage 270:============================>                           (5 + 5) / 10]"
     ]
    },
    {
     "name": "stdout",
     "output_type": "stream",
     "text": [
      "+--------+\n",
      "|count(1)|\n",
      "+--------+\n",
      "|     291|\n",
      "+--------+\n",
      "\n"
     ]
    },
    {
     "name": "stderr",
     "output_type": "stream",
     "text": [
      "                                                                                "
     ]
    }
   ],
   "source": [
    "clean_df.agg(F.count(\"*\")).show()"
   ]
  },
  {
   "cell_type": "code",
   "execution_count": 103,
   "id": "88e24533-6f27-44f1-91c5-a91d93c8576d",
   "metadata": {},
   "outputs": [
    {
     "name": "stdout",
     "output_type": "stream",
     "text": [
      "root\n",
      " |-- apparent_temperature: double (nullable = true)\n",
      " |-- cloud_cover: long (nullable = true)\n",
      " |-- interval: long (nullable = true)\n",
      " |-- is_day: long (nullable = true)\n",
      " |-- precipitation: double (nullable = true)\n",
      " |-- pressure_msl: double (nullable = true)\n",
      " |-- rain: double (nullable = true)\n",
      " |-- relative_humidity_2m: long (nullable = true)\n",
      " |-- showers: double (nullable = true)\n",
      " |-- surface_pressure: double (nullable = true)\n",
      " |-- temperature_2m: double (nullable = true)\n",
      " |-- time: string (nullable = true)\n",
      " |-- weather_code: long (nullable = true)\n",
      " |-- wind_direction_10m: long (nullable = true)\n",
      " |-- wind_gusts_10m: double (nullable = true)\n",
      " |-- wind_speed_10m: double (nullable = true)\n",
      " |-- date: string (nullable = true)\n",
      " |-- latitude: double (nullable = true)\n",
      " |-- longitude: double (nullable = true)\n",
      " |-- file_path: string (nullable = false)\n",
      " |-- city: string (nullable = false)\n",
      "\n"
     ]
    }
   ],
   "source": [
    "clean_df.printSchema()"
   ]
  },
  {
   "cell_type": "code",
   "execution_count": 104,
   "id": "20ff3d74-7dee-4c7d-9969-bc748357a68e",
   "metadata": {},
   "outputs": [
    {
     "name": "stderr",
     "output_type": "stream",
     "text": [
      "[Stage 155:>                                                        (0 + 2) / 2]"
     ]
    },
    {
     "name": "stdout",
     "output_type": "stream",
     "text": [
      "+----------------+------+\n",
      "|surface_pressure|  city|\n",
      "+----------------+------+\n",
      "|           949.5|havana|\n",
      "|           946.8|havana|\n",
      "|           943.7|havana|\n",
      "|           944.4|havana|\n",
      "|           946.4|havana|\n",
      "|           945.1|havana|\n",
      "|           946.2|havana|\n",
      "|           951.6|havana|\n",
      "|           946.4|havana|\n",
      "|           944.6|havana|\n",
      "|           946.1|havana|\n",
      "|           947.1|havana|\n",
      "|           946.6|havana|\n",
      "|           944.0|havana|\n",
      "|           943.1|havana|\n",
      "|           945.5|havana|\n",
      "|           944.9|havana|\n",
      "|           960.5|nassau|\n",
      "|           945.9|havana|\n",
      "|           944.4|havana|\n",
      "|           951.1|havana|\n",
      "|           951.1|havana|\n",
      "|           951.1|havana|\n",
      "|           945.3|havana|\n",
      "|           961.5|nassau|\n",
      "|           943.7|havana|\n",
      "|           947.4|havana|\n",
      "|           947.1|havana|\n",
      "|           951.2|havana|\n",
      "|           945.6|havana|\n",
      "|           943.9|havana|\n",
      "|           959.0|nassau|\n",
      "|           960.3|nassau|\n",
      "|           960.0|nassau|\n",
      "|           949.0|havana|\n",
      "|           945.0|havana|\n",
      "|           945.8|havana|\n",
      "|           960.6|nassau|\n",
      "|           992.7| miami|\n",
      "|           945.4|havana|\n",
      "|           946.1|havana|\n",
      "|           961.6|nassau|\n",
      "|           943.8|havana|\n",
      "|           945.3|havana|\n",
      "|           944.0|havana|\n",
      "|           944.9|havana|\n",
      "|           960.6|nassau|\n",
      "|           944.4|havana|\n",
      "|           986.6| miami|\n",
      "|           989.4| miami|\n",
      "|           960.5|nassau|\n",
      "|           958.4|nassau|\n",
      "|           960.9|nassau|\n",
      "|           961.0|nassau|\n",
      "|           960.6|nassau|\n",
      "|           949.1|havana|\n",
      "|           944.3|havana|\n",
      "|           945.9|havana|\n",
      "|           987.2| miami|\n",
      "|           945.1|havana|\n",
      "+----------------+------+\n",
      "only showing top 60 rows\n"
     ]
    },
    {
     "name": "stderr",
     "output_type": "stream",
     "text": [
      "                                                                                "
     ]
    }
   ],
   "source": [
    "clean_df.select(clean_df.surface_pressure, clean_df.city).show(60)"
   ]
  },
  {
   "cell_type": "code",
   "execution_count": 105,
   "id": "5126b0b9-067f-484c-ae07-aa5f4eb6296c",
   "metadata": {},
   "outputs": [
    {
     "name": "stderr",
     "output_type": "stream",
     "text": [
      "                                                                                "
     ]
    },
    {
     "name": "stdout",
     "output_type": "stream",
     "text": [
      "Train size:  219\n"
     ]
    },
    {
     "name": "stderr",
     "output_type": "stream",
     "text": [
      "[Stage 159:>                                                      (0 + 10) / 10]"
     ]
    },
    {
     "name": "stdout",
     "output_type": "stream",
     "text": [
      "Test size:  48\n"
     ]
    },
    {
     "name": "stderr",
     "output_type": "stream",
     "text": [
      "                                                                                "
     ]
    }
   ],
   "source": [
    "train_data, test_data = clean_df.randomSplit([0.8, 0.2], seed=42)\n",
    "print(\"Train size: \", train_data.count())\n",
    "print(\"Test size: \", test_data.count())"
   ]
  },
  {
   "cell_type": "code",
   "execution_count": 106,
   "id": "d7dcddf2-62f9-4bff-8db0-ad541603b599",
   "metadata": {},
   "outputs": [],
   "source": [
    "pipeline_stages = []"
   ]
  },
  {
   "cell_type": "code",
   "execution_count": 107,
   "id": "1ef3b0ba-e41e-46db-8fc0-746bd32a90e8",
   "metadata": {},
   "outputs": [],
   "source": [
    "from pyspark.ml.feature import StringIndexer\n",
    "\n",
    "indexer = StringIndexer(inputCol=\"city\", outputCol=\"city_index\")\n",
    "# indexer_model = indexer.fit(train_data)\n",
    "# train_data = indexer_model.transform(train_data)\n",
    "#\n",
    "pipeline_stages.append(indexer)"
   ]
  },
  {
   "cell_type": "code",
   "execution_count": 108,
   "id": "107ce3d0-838b-4cac-ba2b-eee453864945",
   "metadata": {},
   "outputs": [],
   "source": [
    "# input_columns = [\"apparent_temperature\", \"cloud_cover\", \"interval\",\n",
    "#                  \"is_day\", \"precipitation\", \"pressure_msl\",\n",
    "#                  \"rain\", \"relative_humidity_2m\", \"showers\",\n",
    "#                  \"surface_pressure\", \"temperature_2m\",\n",
    "#                  \"wind_direction_10m\", \"wind_gusts_10m\", \"wind_speed_10m\"]\n",
    "input_columns = [\"apparent_temperature\", \"cloud_cover\", \"interval\",\n",
    "                 \"precipitation\", \"pressure_msl\",\n",
    "                \"rain\", \"relative_humidity_2m\", \"showers\",\n",
    "                 \"temperature_2m\",\n",
    "                  \"wind_direction_10m\", \"wind_gusts_10m\", \"wind_speed_10m\"\n",
    "                 ]\n",
    "# input_columns = [\"surface_pressure\"]"
   ]
  },
  {
   "cell_type": "code",
   "execution_count": 109,
   "id": "bd6fdf17-84de-4da4-96ac-87d57bb297d1",
   "metadata": {},
   "outputs": [],
   "source": [
    "from pyspark.ml.feature import VectorAssembler\n",
    "\n",
    "assembler = VectorAssembler(inputCols=input_columns, outputCol=\"unscaled_features\")\n",
    "# train_data = assembler.transform(train_data)\n",
    "#\n",
    "pipeline_stages.append(assembler)"
   ]
  },
  {
   "cell_type": "code",
   "execution_count": 110,
   "id": "8ae335f0-7cfd-4427-9793-869bd12f8569",
   "metadata": {},
   "outputs": [],
   "source": [
    "from pyspark.ml.feature import StandardScaler\n",
    "\n",
    "scaler = StandardScaler(inputCol='unscaled_features', outputCol='features', withMean=True, withStd=True)\n",
    "\n",
    "# scaler_model = scaler.fit(train_data)\n",
    "# train_data = scaler_model.transform(train_data)\n",
    "#\n",
    "pipeline_stages.append(scaler)"
   ]
  },
  {
   "cell_type": "code",
   "execution_count": 111,
   "id": "53f650ef-f977-40a7-a495-6581d7559907",
   "metadata": {},
   "outputs": [],
   "source": [
    "# train_data.show(5)"
   ]
  },
  {
   "cell_type": "code",
   "execution_count": 112,
   "id": "022fd4b9-3634-4939-86bb-474d0e530487",
   "metadata": {},
   "outputs": [],
   "source": [
    "from pyspark.ml.classification import DecisionTreeClassifier\n",
    "\n",
    "dtc = DecisionTreeClassifier(featuresCol='features', labelCol='city_index')\n",
    "# model = dtc.fit(train_data)\n",
    "#\n",
    "pipeline_stages.append(dtc)"
   ]
  },
  {
   "cell_type": "code",
   "execution_count": 113,
   "id": "c43fff71-3339-4cb6-8ed4-f240975b7b10",
   "metadata": {},
   "outputs": [],
   "source": [
    "from pyspark.ml import Pipeline\n",
    "\n",
    "pipeline = Pipeline(stages=pipeline_stages)"
   ]
  },
  {
   "cell_type": "code",
   "execution_count": 115,
   "id": "f37a5edd-3e95-4a46-94f6-653c8a126a5e",
   "metadata": {},
   "outputs": [
    {
     "name": "stderr",
     "output_type": "stream",
     "text": [
      "                                                                                "
     ]
    }
   ],
   "source": [
    "model = pipeline.fit(train_data)"
   ]
  },
  {
   "cell_type": "code",
   "execution_count": null,
   "id": "e0cbac5a-a363-4b63-9ee8-03e35ffd7db9",
   "metadata": {},
   "outputs": [],
   "source": [
    "# test_data = indexer_model.transform(test_data)\n",
    "# test_data = assembler.transform(test_data)\n",
    "# test_data = scaler_model.transform(test_data)\n",
    "# test_data.show(1)"
   ]
  },
  {
   "cell_type": "code",
   "execution_count": 116,
   "id": "08d06b55-9e00-44ea-9f68-d4fe33b72d3e",
   "metadata": {},
   "outputs": [],
   "source": [
    "predictions = model.transform(test_data)\n",
    "# predictions.show(3)"
   ]
  },
  {
   "cell_type": "code",
   "execution_count": 117,
   "id": "37a0dce3-8918-4e4a-9243-869112fca37b",
   "metadata": {},
   "outputs": [
    {
     "name": "stderr",
     "output_type": "stream",
     "text": [
      "[Stage 186:>                                                        (0 + 2) / 2]"
     ]
    },
    {
     "name": "stdout",
     "output_type": "stream",
     "text": [
      "+--------------------+----------+----------+\n",
      "|            features|city_index|prediction|\n",
      "+--------------------+----------+----------+\n",
      "|[-1.5123543444348...|       1.0|       1.0|\n",
      "|[-1.0609668126716...|       1.0|       2.0|\n",
      "|[-0.9481199297308...|       1.0|       1.0|\n",
      "|[-0.3613161384387...|       1.0|       0.0|\n",
      "|[0.18034889967706...|       1.0|       1.0|\n",
      "|[0.69944456120470...|       1.0|       0.0|\n",
      "|[-1.7831868634927...|       1.0|       1.0|\n",
      "|[-0.9481199297308...|       2.0|       2.0|\n",
      "|[-0.9481199297308...|       1.0|       2.0|\n",
      "|[-0.5193017745558...|       2.0|       2.0|\n",
      "+--------------------+----------+----------+\n",
      "only showing top 10 rows\n"
     ]
    },
    {
     "name": "stderr",
     "output_type": "stream",
     "text": [
      "                                                                                "
     ]
    }
   ],
   "source": [
    "predictions.select('features', 'city_index', 'prediction').show(10)"
   ]
  },
  {
   "cell_type": "code",
   "execution_count": 118,
   "id": "1c2a08ab-9880-4e20-9bb7-c129c99077d8",
   "metadata": {},
   "outputs": [
    {
     "name": "stderr",
     "output_type": "stream",
     "text": [
      "[Stage 187:>                                                      (0 + 10) / 10]"
     ]
    },
    {
     "name": "stdout",
     "output_type": "stream",
     "text": [
      "Accuracy = 83.33%\n"
     ]
    },
    {
     "name": "stderr",
     "output_type": "stream",
     "text": [
      "                                                                                "
     ]
    }
   ],
   "source": [
    "from pyspark.ml.evaluation import MulticlassClassificationEvaluator\n",
    "\n",
    "accuracty_evaluator = MulticlassClassificationEvaluator(labelCol='city_index', predictionCol='prediction', metricName='accuracy')\n",
    "accuracy = accuracty_evaluator.evaluate(predictions) * 100\n",
    "print(f'Accuracy = {accuracy:.2f}%')"
   ]
  },
  {
   "cell_type": "code",
   "execution_count": 121,
   "id": "a6e9fe92-0160-43d2-9286-7aa85147dbc0",
   "metadata": {},
   "outputs": [
    {
     "data": {
      "text/plain": [
       "'s3a://af-weather-lake-01/models/date=2025-09-09/model/'"
      ]
     },
     "execution_count": 121,
     "metadata": {},
     "output_type": "execute_result"
    }
   ],
   "source": [
    "from datetime import datetime\n",
    "\n",
    "# Save with date key\n",
    "date_str = datetime.now().strftime(\"%Y-%m-%d\")\n",
    "model_path = f\"s3a://af-weather-lake-01/models/date={date_str}/model/\"\n",
    "model_path"
   ]
  },
  {
   "cell_type": "code",
   "execution_count": 122,
   "id": "ed3e78ca-82ad-4d07-bf75-724725cf544b",
   "metadata": {},
   "outputs": [
    {
     "name": "stderr",
     "output_type": "stream",
     "text": [
      "                                                                                "
     ]
    }
   ],
   "source": [
    "# model.write().overwrite().save(model_path)"
   ]
  },
  {
   "cell_type": "code",
   "execution_count": 155,
   "id": "9c46c425-2139-44a6-bc2b-cb777f0a689a",
   "metadata": {},
   "outputs": [
    {
     "name": "stderr",
     "output_type": "stream",
     "text": [
      "[Stage 288:===========>                                            (2 + 8) / 10]"
     ]
    },
    {
     "name": "stdout",
     "output_type": "stream",
     "text": [
      "{\n",
      "  \"input_columns\": [\n",
      "    \"apparent_temperature\",\n",
      "    \"cloud_cover\",\n",
      "    \"interval\",\n",
      "    \"precipitation\",\n",
      "    \"pressure_msl\",\n",
      "    \"rain\",\n",
      "    \"relative_humidity_2m\",\n",
      "    \"showers\",\n",
      "    \"temperature_2m\",\n",
      "    \"wind_direction_10m\",\n",
      "    \"wind_gusts_10m\",\n",
      "    \"wind_speed_10m\"\n",
      "  ],\n",
      "  \"training_split_used\": \"None\",\n",
      "  \"training_entries_count\": 291,\n",
      "  \"paramGridBuilderValues\": null\n",
      "}\n"
     ]
    },
    {
     "name": "stderr",
     "output_type": "stream",
     "text": [
      "                                                                                "
     ]
    }
   ],
   "source": [
    "import json\n",
    "num_rows = clean_df.count()\n",
    "metadata = {\n",
    "        \"input_columns\": input_columns,\n",
    "        \"training_split_used\": \"None\",\n",
    "        \"training_entries_count\": num_rows,\n",
    "        \"paramGridBuilderValues\": None,\n",
    "    }\n",
    "json_string = json.dumps(metadata, indent=2)\n",
    "print(json_string)"
   ]
  },
  {
   "cell_type": "code",
   "execution_count": null,
   "id": "43c598dc-596e-48ba-87f2-24e40b3058e2",
   "metadata": {},
   "outputs": [],
   "source": []
  }
 ],
 "metadata": {
  "kernelspec": {
   "display_name": "Python 3 (ipykernel)",
   "language": "python",
   "name": "python3"
  },
  "language_info": {
   "codemirror_mode": {
    "name": "ipython",
    "version": 3
   },
   "file_extension": ".py",
   "mimetype": "text/x-python",
   "name": "python",
   "nbconvert_exporter": "python",
   "pygments_lexer": "ipython3",
   "version": "3.12.11"
  }
 },
 "nbformat": 4,
 "nbformat_minor": 5
}
