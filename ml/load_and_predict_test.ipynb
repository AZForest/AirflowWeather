{
 "cells": [
  {
   "cell_type": "code",
   "execution_count": 1,
   "id": "d376fc05-d976-46f4-9b24-9ac3ed9e9e6f",
   "metadata": {},
   "outputs": [],
   "source": [
    "from pyspark.sql import SparkSession\n",
    "import os\n",
    "import pyspark.sql.functions as F\n",
    "from pyspark.sql.functions import input_file_name, regexp_extract\n",
    "from pyspark.ml import PipelineModel"
   ]
  },
  {
   "cell_type": "code",
   "execution_count": 2,
   "id": "60074437-78f5-4673-9d72-ba6e806048a7",
   "metadata": {},
   "outputs": [
    {
     "name": "stderr",
     "output_type": "stream",
     "text": [
      "25/09/09 09:18:06 WARN SparkSession: Using an existing Spark session; only runtime SQL configurations will take effect.\n"
     ]
    }
   ],
   "source": [
    "spark = SparkSession.builder \\\n",
    "        .appName(\"LoadAndPredictApp\") \\\n",
    "        .config(\"spark.hadoop.fs.s3a.impl\", \"org.apache.hadoop.fs.s3a.S3AFileSystem\") \\\n",
    "        .config(\"spark.hadoop.fs.s3a.threads.keepalivetime\", \"60000\") \\\n",
    "        .config(\"spark.hadoop.fs.s3a.multipart.purge.age\", \"24\") \\\n",
    "        .config(\"spark.hadoop.fs.s3a.connection.establish.timeout\", \"30000\") \\\n",
    "        .config(\"spark.hadoop.fs.s3a.connection.timeout\", \"60000\") \\\n",
    "        .config(\"spark.hadoop.fs.s3a.aws.credentials.provider\", \"com.amazonaws.auth.EnvironmentVariableCredentialsProvider\") \\\n",
    "        .getOrCreate()"
   ]
  },
  {
   "cell_type": "code",
   "execution_count": 4,
   "id": "35f2b797-95a5-4829-a2da-747463c5c82c",
   "metadata": {},
   "outputs": [],
   "source": [
    "hadoop_conf = spark.sparkContext._jsc.hadoopConfiguration()\n",
    "hadoop_conf.clear()  # Clear all Hadoop configurations\n",
    "hadoop_conf.set(\"fs.s3a.aws.credentials.provider\", \"com.amazonaws.auth.EnvironmentVariableCredentialsProvider\")\n",
    "hadoop_conf.set(\"fs.s3a.impl\", \"org.apache.hadoop.fs.s3a.S3AFileSystem\")\n",
    "hadoop_conf.set(\"fs.s3a.connection.timeout\", \"60000\")\n",
    "hadoop_conf.set(\"fs.s3a.socket.timeout\", \"60000\")\n",
    "hadoop_conf.set(\"fs.s3a.connection.establish.timeout\", \"60000\")\n",
    "hadoop_conf.set(\"fs.s3a.threads.keepalivetime\", \"60\")\n",
    "hadoop_conf.set(\"fs.s3a.multipart.purge.age\", \"24\")"
   ]
  },
  {
   "cell_type": "code",
   "execution_count": 8,
   "id": "ae631795-9c50-45d5-bce8-7bd716f67d52",
   "metadata": {},
   "outputs": [],
   "source": [
    "from datetime import datetime\n",
    "date_str = datetime.now().strftime(\"%Y-%m-%d\")\n",
    "model_path = f\"s3a://af-weather-lake-01/models/date={date_str}/model/\"\n",
    "# date_str    \n",
    "model = PipelineModel.load(f\"s3a://af-weather-lake-01/models/date={date_str}/model/\")"
   ]
  },
  {
   "cell_type": "code",
   "execution_count": 9,
   "id": "27ac10f8-b5cc-476e-ab70-64c6c3a5da97",
   "metadata": {},
   "outputs": [
    {
     "data": {
      "text/plain": [
       "PipelineModel_0f2bc5945cee"
      ]
     },
     "execution_count": 9,
     "metadata": {},
     "output_type": "execute_result"
    }
   ],
   "source": [
    "model"
   ]
  },
  {
   "cell_type": "code",
   "execution_count": 67,
   "id": "0be9b279-5874-410a-950f-ed88db682ee5",
   "metadata": {},
   "outputs": [
    {
     "data": {
      "text/plain": [
       "'2025-09-09_1024'"
      ]
     },
     "execution_count": 67,
     "metadata": {},
     "output_type": "execute_result"
    }
   ],
   "source": [
    "current_time = datetime.now().strftime(\"%Y-%m-%d_%H%M\")\n",
    "current_time"
   ]
  },
  {
   "cell_type": "code",
   "execution_count": 40,
   "id": "0589f8a7-a7f5-45d2-b76b-9d1d65e65f47",
   "metadata": {},
   "outputs": [],
   "source": [
    "# Simulate new data \n",
    "\n",
    "havana_entry = spark.read.json(\"s3a://af-weather-lake-01/data/weather/date=2025-09-09_1500/havana\")\n",
    "nassau_entry = spark.read.json(\"s3a://af-weather-lake-01/data/weather/date=2025-09-09_1500/nassau\")\n",
    "miami_entry = spark.read.json(\"s3a://af-weather-lake-01/data/weather/date=2025-09-09_1500/miami\")\n",
    "\n",
    "all_entries = havana_entry.union(nassau_entry).union(miami_entry)"
   ]
  },
  {
   "cell_type": "code",
   "execution_count": 41,
   "id": "3032d2dc-6c9f-4b47-92d4-0adbaef98749",
   "metadata": {},
   "outputs": [
    {
     "name": "stdout",
     "output_type": "stream",
     "text": [
      "root\n",
      " |-- current: struct (nullable = true)\n",
      " |    |-- apparent_temperature: double (nullable = true)\n",
      " |    |-- cloud_cover: long (nullable = true)\n",
      " |    |-- interval: long (nullable = true)\n",
      " |    |-- is_day: long (nullable = true)\n",
      " |    |-- precipitation: double (nullable = true)\n",
      " |    |-- pressure_msl: double (nullable = true)\n",
      " |    |-- rain: double (nullable = true)\n",
      " |    |-- relative_humidity_2m: long (nullable = true)\n",
      " |    |-- showers: double (nullable = true)\n",
      " |    |-- surface_pressure: double (nullable = true)\n",
      " |    |-- temperature_2m: double (nullable = true)\n",
      " |    |-- time: string (nullable = true)\n",
      " |    |-- weather_code: long (nullable = true)\n",
      " |    |-- wind_direction_10m: long (nullable = true)\n",
      " |    |-- wind_gusts_10m: double (nullable = true)\n",
      " |    |-- wind_speed_10m: double (nullable = true)\n",
      " |-- current_units: struct (nullable = true)\n",
      " |    |-- apparent_temperature: string (nullable = true)\n",
      " |    |-- cloud_cover: string (nullable = true)\n",
      " |    |-- interval: string (nullable = true)\n",
      " |    |-- is_day: string (nullable = true)\n",
      " |    |-- precipitation: string (nullable = true)\n",
      " |    |-- pressure_msl: string (nullable = true)\n",
      " |    |-- rain: string (nullable = true)\n",
      " |    |-- relative_humidity_2m: string (nullable = true)\n",
      " |    |-- showers: string (nullable = true)\n",
      " |    |-- surface_pressure: string (nullable = true)\n",
      " |    |-- temperature_2m: string (nullable = true)\n",
      " |    |-- time: string (nullable = true)\n",
      " |    |-- weather_code: string (nullable = true)\n",
      " |    |-- wind_direction_10m: string (nullable = true)\n",
      " |    |-- wind_gusts_10m: string (nullable = true)\n",
      " |    |-- wind_speed_10m: string (nullable = true)\n",
      " |-- elevation: double (nullable = true)\n",
      " |-- generationtime_ms: double (nullable = true)\n",
      " |-- latitude: double (nullable = true)\n",
      " |-- longitude: double (nullable = true)\n",
      " |-- timezone: string (nullable = true)\n",
      " |-- timezone_abbreviation: string (nullable = true)\n",
      " |-- utc_offset_seconds: long (nullable = true)\n",
      "\n"
     ]
    }
   ],
   "source": [
    "all_entries.printSchema()"
   ]
  },
  {
   "cell_type": "code",
   "execution_count": 42,
   "id": "c3d75242-c9ff-4c8a-95a0-232f73ce33e4",
   "metadata": {},
   "outputs": [],
   "source": [
    "all_df = all_entries.select(\"current.*\", \"latitude\", \"longitude\") \\\n",
    "    .withColumn(\"file_path\", input_file_name()) \\\n",
    "    .withColumn(\"city\", regexp_extract(\"file_path\", r\"date=[^/]+/([^/]+)/[^/]+\\.json$\", 1))\n"
   ]
  },
  {
   "cell_type": "code",
   "execution_count": 43,
   "id": "ca59ca08-df09-4bb7-8a1d-5c19e1a3a27a",
   "metadata": {},
   "outputs": [
    {
     "name": "stdout",
     "output_type": "stream",
     "text": [
      "+--------------------+-----------+--------+------+-------------+------------+----+--------------------+-------+----------------+--------------+----------------+------------+------------------+--------------+--------------+--------+---------+--------------------+------+\n",
      "|apparent_temperature|cloud_cover|interval|is_day|precipitation|pressure_msl|rain|relative_humidity_2m|showers|surface_pressure|temperature_2m|            time|weather_code|wind_direction_10m|wind_gusts_10m|wind_speed_10m|latitude|longitude|           file_path|  city|\n",
      "+--------------------+-----------+--------+------+-------------+------------+----+--------------------+-------+----------------+--------------+----------------+------------+------------------+--------------+--------------+--------+---------+--------------------+------+\n",
      "|                88.2|        100|     900|     0|          0.5|      1008.6| 0.0|                  87|    0.5|           951.8|          78.4|2025-09-09T16:00|          95|               288|           5.4|           2.3|  23.125|   82.375|s3a://af-weather-...|havana|\n",
      "|                89.5|        100|     900|     0|          0.0|      1008.5| 0.0|                  87|    0.0|           967.1|          79.3|2025-09-09T16:00|           3|               220|           6.1|           2.8|    25.0|   77.375|s3a://af-weather-...|nassau|\n",
      "|                94.5|        100|     900|     0|          0.1|      1006.4| 0.0|                  88|    0.1|           992.9|          82.4|2025-09-09T16:00|          80|               236|          13.0|           3.9|   25.75|    80.25|s3a://af-weather-...| miami|\n",
      "+--------------------+-----------+--------+------+-------------+------------+----+--------------------+-------+----------------+--------------+----------------+------------+------------------+--------------+--------------+--------+---------+--------------------+------+\n",
      "\n"
     ]
    }
   ],
   "source": [
    "all_df.show()"
   ]
  },
  {
   "cell_type": "code",
   "execution_count": 44,
   "id": "110f1c35-7e3f-4237-850d-4aec8a2043aa",
   "metadata": {},
   "outputs": [],
   "source": [
    "all_predictions = model.transform(all_df)"
   ]
  },
  {
   "cell_type": "code",
   "execution_count": 46,
   "id": "ea73a498-863b-4d01-b6b1-140a82baf338",
   "metadata": {},
   "outputs": [
    {
     "name": "stdout",
     "output_type": "stream",
     "text": [
      "+--------------------+------+----------+----------+\n",
      "|            features|  city|city_index|prediction|\n",
      "+--------------------+------+----------+----------+\n",
      "|[-0.4064548916150...|havana|       1.0|       1.0|\n",
      "|[-0.1130529959689...|nassau|       2.0|       2.0|\n",
      "|[1.01541583343893...| miami|       0.0|       0.0|\n",
      "+--------------------+------+----------+----------+\n",
      "\n"
     ]
    }
   ],
   "source": [
    "all_predictions.select('features', 'city', 'city_index', 'prediction').show()"
   ]
  },
  {
   "cell_type": "code",
   "execution_count": 47,
   "id": "a9e1e680-a89b-49f1-b90e-5b188a0a9291",
   "metadata": {},
   "outputs": [
    {
     "name": "stdout",
     "output_type": "stream",
     "text": [
      "Accuracy = 100.00%\n"
     ]
    }
   ],
   "source": [
    "from pyspark.ml.evaluation import MulticlassClassificationEvaluator\n",
    "\n",
    "accuracty_evaluator = MulticlassClassificationEvaluator(labelCol='city_index', predictionCol='prediction', metricName='accuracy')\n",
    "accuracy = accuracty_evaluator.evaluate(all_predictions) * 100\n",
    "print(f'Accuracy = {accuracy:.2f}%')"
   ]
  },
  {
   "cell_type": "code",
   "execution_count": 52,
   "id": "9c95cc80-ed9a-4f31-8292-dc40d89ce615",
   "metadata": {},
   "outputs": [
    {
     "name": "stdout",
     "output_type": "stream",
     "text": [
      "Precision = 100.00%\n"
     ]
    }
   ],
   "source": [
    "precision_evaluator = MulticlassClassificationEvaluator(labelCol='city_index', predictionCol='prediction', metricName='precisionByLabel')\n",
    "precision = precision_evaluator.evaluate(all_predictions) * 100\n",
    "print(f'Precision = {precision:.2f}%')"
   ]
  },
  {
   "cell_type": "code",
   "execution_count": 70,
   "id": "19149a0a-4847-4ec3-abae-660557835aa5",
   "metadata": {},
   "outputs": [
    {
     "data": {
      "text/plain": [
       "{'model_type': 'PipelineModel',\n",
       " 'model_location': 's3a://af-weather-lake-01/models/date=2025-09-09/model/',\n",
       " 'datetime': '2025-09-09_1024',\n",
       " 'accuracy': '100.00%',\n",
       " 'precision': '100.00%',\n",
       " 'city_indexes': {'miami': 0.0, 'massau': 2.0, 'havana': 1.0},\n",
       " 'city_guesses': {'miami': 0.0, 'nassau': 2.0, 'havana': 1.0}}"
      ]
     },
     "execution_count": 70,
     "metadata": {},
     "output_type": "execute_result"
    }
   ],
   "source": [
    "# Write a Report to S3\n",
    "result = {\n",
    "    \"model_type\": \"PipelineModel\",\n",
    "    \"model_location\": f\"s3a://af-weather-lake-01/models/date={date_str}/model/\",\n",
    "    \"datetime\": current_time,\n",
    "    \"accuracy\": f'{accuracy:.2f}%',\n",
    "    \"precision\": f'{precision:.2f}%',\n",
    "    \"city_indexes\": {\n",
    "        \"miami\": all_predictions.select(\"city_index\").where(all_predictions.city == \"miami\").first()[0],\n",
    "        \"massau\": all_predictions.select(\"city_index\").where(all_predictions.city == \"nassau\").first()[0],\n",
    "        \"havana\": all_predictions.select(\"city_index\").where(all_predictions.city == \"havana\").first()[0],\n",
    "    },\n",
    "    \"city_guesses\": {\n",
    "        \"miami\": all_predictions.select(\"prediction\").where(all_predictions.city == \"miami\").first()[0],\n",
    "        \"nassau\": all_predictions.select(\"prediction\").where(all_predictions.city == \"nassau\").first()[0],\n",
    "        \"havana\": all_predictions.select(\"prediction\").where(all_predictions.city == \"havana\").first()[0],\n",
    "    }\n",
    "}\n",
    "result\n"
   ]
  },
  {
   "cell_type": "code",
   "execution_count": 74,
   "id": "4859566c-6926-4744-8d7e-85275acae075",
   "metadata": {},
   "outputs": [
    {
     "name": "stdout",
     "output_type": "stream",
     "text": [
      "{\n",
      "  \"model_type\": \"PipelineModel\",\n",
      "  \"model_location\": \"s3a://af-weather-lake-01/models/date=2025-09-09/model/\",\n",
      "  \"datetime\": \"2025-09-09_1024\",\n",
      "  \"accuracy\": \"100.00%\",\n",
      "  \"precision\": \"100.00%\",\n",
      "  \"city_indexes\": {\n",
      "    \"miami\": 0.0,\n",
      "    \"massau\": 2.0,\n",
      "    \"havana\": 1.0\n",
      "  },\n",
      "  \"city_guesses\": {\n",
      "    \"miami\": 0.0,\n",
      "    \"nassau\": 2.0,\n",
      "    \"havana\": 1.0\n",
      "  }\n",
      "}\n"
     ]
    }
   ],
   "source": [
    "import json\n",
    "json_string = json.dumps(result, indent=2)\n",
    "print(json_string)"
   ]
  },
  {
   "cell_type": "code",
   "execution_count": 77,
   "id": "304c14bc-612b-4c7c-8897-f01e30dd3f05",
   "metadata": {},
   "outputs": [
    {
     "name": "stdout",
     "output_type": "stream",
     "text": [
      "Successfully uploaded to S3: reports/hourly/date=2025-09-09_1024/2025-09-09_1024_report.json\n"
     ]
    }
   ],
   "source": [
    "import tempfile\n",
    "import subprocess\n",
    "\n",
    "with tempfile.NamedTemporaryFile(mode='w', delete=False, suffix='.json') as temp_file:\n",
    "                    temp_file.write(json_string)\n",
    "                    temp_path = temp_file.name\n",
    "try:\n",
    "    key = f'reports/hourly/date={current_time}/{current_time}_report.json'\n",
    "    aws_result = subprocess.run([\n",
    "        'aws', 's3', 'cp', \n",
    "        temp_path, \n",
    "        f's3://af-weather-lake-01/{key}',\n",
    "        '--content-type', 'application/json'\n",
    "    ], capture_output=True, text=True, timeout=60)\n",
    "    \n",
    "    if aws_result.returncode == 0:\n",
    "        print(f\"Successfully uploaded to S3: {key}\")\n",
    "    else:\n",
    "        print(f\"AWS CLI failed: {aws_result.stderr}\")\n",
    "        raise Exception(\"S3 upload failed\")\n",
    "finally:\n",
    "    # Clean up temp file\n",
    "    os.unlink(temp_path)"
   ]
  },
  {
   "cell_type": "code",
   "execution_count": null,
   "id": "b8fb1d72-bdac-4520-8853-c5d10eb6ebef",
   "metadata": {},
   "outputs": [],
   "source": []
  }
 ],
 "metadata": {
  "kernelspec": {
   "display_name": "Python 3 (ipykernel)",
   "language": "python",
   "name": "python3"
  },
  "language_info": {
   "codemirror_mode": {
    "name": "ipython",
    "version": 3
   },
   "file_extension": ".py",
   "mimetype": "text/x-python",
   "name": "python",
   "nbconvert_exporter": "python",
   "pygments_lexer": "ipython3",
   "version": "3.12.11"
  }
 },
 "nbformat": 4,
 "nbformat_minor": 5
}
